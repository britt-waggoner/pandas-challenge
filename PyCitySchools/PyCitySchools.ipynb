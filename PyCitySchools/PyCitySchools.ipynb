{
 "cells": [
  {
   "cell_type": "code",
   "execution_count": 1,
   "id": "9a86e531",
   "metadata": {},
   "outputs": [],
   "source": [
    "import pandas as pd\n",
    "import os\n",
    "\n",
    "sch_file = \"D:\\schools_complete.csv\"\n",
    "stud_file = \"D:\\students_complete.csv\"\n",
    "\n",
    "sch_df = pd.read_csv(sch_file)\n",
    "stud_df = pd.read_csv(stud_file)\n",
    "\n",
    "sch_df.head()\n",
    "stud_df.head()\n",
    "\n",
    "sch_complete_df = pd.merge(stud_df, sch_df, how=\"left\", on=[\"school_name\"])\n"
   ]
  },
  {
   "cell_type": "code",
   "execution_count": 2,
   "id": "6a6f2d58",
   "metadata": {
    "scrolled": false
   },
   "outputs": [
    {
     "data": {
      "text/html": [
       "<div>\n",
       "<style scoped>\n",
       "    .dataframe tbody tr th:only-of-type {\n",
       "        vertical-align: middle;\n",
       "    }\n",
       "\n",
       "    .dataframe tbody tr th {\n",
       "        vertical-align: top;\n",
       "    }\n",
       "\n",
       "    .dataframe thead th {\n",
       "        text-align: right;\n",
       "    }\n",
       "</style>\n",
       "<table border=\"1\" class=\"dataframe\">\n",
       "  <thead>\n",
       "    <tr style=\"text-align: right;\">\n",
       "      <th></th>\n",
       "      <th>Student ID</th>\n",
       "      <th>student_name</th>\n",
       "      <th>gender</th>\n",
       "      <th>grade</th>\n",
       "      <th>school_name</th>\n",
       "      <th>reading_score</th>\n",
       "      <th>math_score</th>\n",
       "      <th>School ID</th>\n",
       "      <th>type</th>\n",
       "      <th>size</th>\n",
       "      <th>budget</th>\n",
       "    </tr>\n",
       "  </thead>\n",
       "  <tbody>\n",
       "    <tr>\n",
       "      <th>0</th>\n",
       "      <td>0</td>\n",
       "      <td>Paul Bradley</td>\n",
       "      <td>M</td>\n",
       "      <td>9th</td>\n",
       "      <td>Huang High School</td>\n",
       "      <td>66</td>\n",
       "      <td>79</td>\n",
       "      <td>0</td>\n",
       "      <td>District</td>\n",
       "      <td>2917</td>\n",
       "      <td>1910635</td>\n",
       "    </tr>\n",
       "    <tr>\n",
       "      <th>1</th>\n",
       "      <td>1</td>\n",
       "      <td>Victor Smith</td>\n",
       "      <td>M</td>\n",
       "      <td>12th</td>\n",
       "      <td>Huang High School</td>\n",
       "      <td>94</td>\n",
       "      <td>61</td>\n",
       "      <td>0</td>\n",
       "      <td>District</td>\n",
       "      <td>2917</td>\n",
       "      <td>1910635</td>\n",
       "    </tr>\n",
       "    <tr>\n",
       "      <th>2</th>\n",
       "      <td>2</td>\n",
       "      <td>Kevin Rodriguez</td>\n",
       "      <td>M</td>\n",
       "      <td>12th</td>\n",
       "      <td>Huang High School</td>\n",
       "      <td>90</td>\n",
       "      <td>60</td>\n",
       "      <td>0</td>\n",
       "      <td>District</td>\n",
       "      <td>2917</td>\n",
       "      <td>1910635</td>\n",
       "    </tr>\n",
       "    <tr>\n",
       "      <th>3</th>\n",
       "      <td>3</td>\n",
       "      <td>Dr. Richard Scott</td>\n",
       "      <td>M</td>\n",
       "      <td>12th</td>\n",
       "      <td>Huang High School</td>\n",
       "      <td>67</td>\n",
       "      <td>58</td>\n",
       "      <td>0</td>\n",
       "      <td>District</td>\n",
       "      <td>2917</td>\n",
       "      <td>1910635</td>\n",
       "    </tr>\n",
       "    <tr>\n",
       "      <th>4</th>\n",
       "      <td>4</td>\n",
       "      <td>Bonnie Ray</td>\n",
       "      <td>F</td>\n",
       "      <td>9th</td>\n",
       "      <td>Huang High School</td>\n",
       "      <td>97</td>\n",
       "      <td>84</td>\n",
       "      <td>0</td>\n",
       "      <td>District</td>\n",
       "      <td>2917</td>\n",
       "      <td>1910635</td>\n",
       "    </tr>\n",
       "  </tbody>\n",
       "</table>\n",
       "</div>"
      ],
      "text/plain": [
       "   Student ID       student_name gender grade        school_name  \\\n",
       "0           0       Paul Bradley      M   9th  Huang High School   \n",
       "1           1       Victor Smith      M  12th  Huang High School   \n",
       "2           2    Kevin Rodriguez      M  12th  Huang High School   \n",
       "3           3  Dr. Richard Scott      M  12th  Huang High School   \n",
       "4           4         Bonnie Ray      F   9th  Huang High School   \n",
       "\n",
       "   reading_score  math_score  School ID      type  size   budget  \n",
       "0             66          79          0  District  2917  1910635  \n",
       "1             94          61          0  District  2917  1910635  \n",
       "2             90          60          0  District  2917  1910635  \n",
       "3             67          58          0  District  2917  1910635  \n",
       "4             97          84          0  District  2917  1910635  "
      ]
     },
     "execution_count": 2,
     "metadata": {},
     "output_type": "execute_result"
    }
   ],
   "source": [
    "sch_complete_df.head()"
   ]
  },
  {
   "cell_type": "code",
   "execution_count": 3,
   "id": "b1d3d47b",
   "metadata": {},
   "outputs": [],
   "source": [
    "# District Summary\n",
    "\n",
    "sch_name_uni = len(sch_complete_df['school_name'].unique())\n",
    "\n",
    "total_stud = sch_df['size'].sum()\n",
    "\n",
    "budget = sch_df['budget'].sum()\n",
    "\n",
    "num_math = sch_complete_df[(sch_complete_df['math_score'] >= 70)].count()['student_name']\n",
    "\n",
    "num_read = sch_complete_df[(sch_complete_df['reading_score'] >= 70)].count()['student_name']\n",
    "\n",
    "\n",
    "perc_math = num_math / float(total_stud) * 100\n",
    "\n",
    "perc_read = num_read / float(total_stud) * 100\n",
    "\n",
    "mean_math = sch_complete_df['math_score'].mean()\n",
    "\n",
    "mean_read = sch_complete_df['reading_score'].mean()\n",
    "\n",
    "overall = sch_complete_df[(sch_complete_df['math_score'] >= 70) & (sch_complete_df['reading_score'] >= 70)].count()['student_name']\n",
    "\n",
    "perc_overall = overall/ float(total_stud) * 100\n",
    "\n",
    "dist_summary = pd.DataFrame({\n",
    "    \n",
    "    \"Total Schools\": [sch_name_uni],\n",
    "    \"Total Students\": [total_stud],\n",
    "    \"Total Budget\": [ '${:,}'.format(budget)],\n",
    "    \"Average Math Score\": [mean_math],\n",
    "    \"Average Reading Score\": [mean_read],\n",
    "    \"Percent Passing Math\":[perc_math],\n",
    "    \"Percent Passing Reading\": [perc_read],\n",
    "    \"Overall Passing Rate\": [perc_overall]\n",
    "\n",
    "})\n",
    "\n"
   ]
  },
  {
   "cell_type": "code",
   "execution_count": 4,
   "id": "6e6c9764",
   "metadata": {},
   "outputs": [
    {
     "data": {
      "text/html": [
       "<div>\n",
       "<style scoped>\n",
       "    .dataframe tbody tr th:only-of-type {\n",
       "        vertical-align: middle;\n",
       "    }\n",
       "\n",
       "    .dataframe tbody tr th {\n",
       "        vertical-align: top;\n",
       "    }\n",
       "\n",
       "    .dataframe thead th {\n",
       "        text-align: right;\n",
       "    }\n",
       "</style>\n",
       "<table border=\"1\" class=\"dataframe\">\n",
       "  <thead>\n",
       "    <tr style=\"text-align: right;\">\n",
       "      <th></th>\n",
       "      <th>Total Schools</th>\n",
       "      <th>Total Students</th>\n",
       "      <th>Total Budget</th>\n",
       "      <th>Average Math Score</th>\n",
       "      <th>Average Reading Score</th>\n",
       "      <th>Percent Passing Math</th>\n",
       "      <th>Percent Passing Reading</th>\n",
       "      <th>Overall Passing Rate</th>\n",
       "    </tr>\n",
       "  </thead>\n",
       "  <tbody>\n",
       "    <tr>\n",
       "      <th>0</th>\n",
       "      <td>15</td>\n",
       "      <td>39170</td>\n",
       "      <td>$24,649,428</td>\n",
       "      <td>78.985371</td>\n",
       "      <td>81.87784</td>\n",
       "      <td>74.980853</td>\n",
       "      <td>85.805463</td>\n",
       "      <td>65.172326</td>\n",
       "    </tr>\n",
       "  </tbody>\n",
       "</table>\n",
       "</div>"
      ],
      "text/plain": [
       "   Total Schools  Total Students Total Budget  Average Math Score  \\\n",
       "0             15           39170  $24,649,428           78.985371   \n",
       "\n",
       "   Average Reading Score  Percent Passing Math  Percent Passing Reading  \\\n",
       "0               81.87784             74.980853                85.805463   \n",
       "\n",
       "   Overall Passing Rate  \n",
       "0             65.172326  "
      ]
     },
     "execution_count": 4,
     "metadata": {},
     "output_type": "execute_result"
    }
   ],
   "source": [
    "dist_summary.head()"
   ]
  },
  {
   "cell_type": "code",
   "execution_count": 5,
   "id": "e0d01fcb",
   "metadata": {},
   "outputs": [],
   "source": [
    "# School Summary"
   ]
  },
  {
   "cell_type": "code",
   "execution_count": 6,
   "id": "776dc6b5",
   "metadata": {},
   "outputs": [],
   "source": [
    "name_sch = sch_complete_df.set_index('school_name').groupby(['school_name'])"
   ]
  },
  {
   "cell_type": "code",
   "execution_count": 7,
   "id": "a40582d1",
   "metadata": {},
   "outputs": [],
   "source": [
    "sch_type = sch_df.set_index('school_name')['type']"
   ]
  },
  {
   "cell_type": "code",
   "execution_count": 8,
   "id": "d497b584",
   "metadata": {},
   "outputs": [],
   "source": [
    "stud_index = name_sch['size'].count()"
   ]
  },
  {
   "cell_type": "code",
   "execution_count": 9,
   "id": "22730365",
   "metadata": {},
   "outputs": [],
   "source": [
    "total_budget = sch_df.set_index('school_name')['budget']"
   ]
  },
  {
   "cell_type": "code",
   "execution_count": 10,
   "id": "084fc2cb",
   "metadata": {},
   "outputs": [],
   "source": [
    "stud_budget = sch_df.set_index('school_name')['budget'] / sch_df.set_index('school_name')['size']"
   ]
  },
  {
   "cell_type": "code",
   "execution_count": 11,
   "id": "4eb68db3",
   "metadata": {},
   "outputs": [],
   "source": [
    "av_math = name_sch['math_score'].mean()"
   ]
  },
  {
   "cell_type": "code",
   "execution_count": 12,
   "id": "541ba785",
   "metadata": {},
   "outputs": [],
   "source": [
    "av_read = name_sch['reading_score'].mean()"
   ]
  },
  {
   "cell_type": "code",
   "execution_count": 13,
   "id": "b9a6a4f6",
   "metadata": {
    "scrolled": true
   },
   "outputs": [],
   "source": [
    "per_math_pass = sch_complete_df[sch_complete_df['math_score']>= 70].groupby('school_name')['student_name'].count() / (stud_index)"
   ]
  },
  {
   "cell_type": "code",
   "execution_count": 14,
   "id": "65e3a451",
   "metadata": {},
   "outputs": [],
   "source": [
    "per_read_pass = sch_complete_df[sch_complete_df['reading_score']>= 70].groupby('school_name')['student_name'].count() / (stud_index) "
   ]
  },
  {
   "cell_type": "code",
   "execution_count": 15,
   "id": "142b65d9",
   "metadata": {},
   "outputs": [],
   "source": [
    "overall_pass = sch_complete_df[(sch_complete_df['reading_score'] >= 70) & (sch_complete_df['math_score'] >= 70)].groupby('school_name')['student_name'].count() / (stud_index)"
   ]
  },
  {
   "cell_type": "code",
   "execution_count": 16,
   "id": "8b9e1aa0",
   "metadata": {},
   "outputs": [],
   "source": [
    "sch_summary = pd.DataFrame({\n",
    "    \"School Type\": sch_type,\n",
    "    \"Total Students\": stud_index,\n",
    "    \"Total School Budget\":  total_budget,\n",
    "    \"Per Student Budget\": stud_budget,\n",
    "    \"Average Math Score\": av_math,\n",
    "    \"Average Reading Score\": av_read,\n",
    "    \"Percent Passing Math\": per_math_pass,\n",
    "    \"Percent Passing Reading\": per_read_pass,\n",
    "    \"Overall Passing Rate\": overall_pass\n",
    "})"
   ]
  },
  {
   "cell_type": "code",
   "execution_count": 75,
   "id": "b7eb8eeb",
   "metadata": {
    "scrolled": true
   },
   "outputs": [
    {
     "data": {
      "text/html": [
       "<style  type=\"text/css\" >\n",
       "</style><table id=\"T_a6ea9522_66d4_11ed_9c00_1cbfc0b08616\" ><thead>    <tr>        <th class=\"blank level0\" ></th>        <th class=\"col_heading level0 col0\" >School Type</th>        <th class=\"col_heading level0 col1\" >Total Students</th>        <th class=\"col_heading level0 col2\" >Total School Budget</th>        <th class=\"col_heading level0 col3\" >Per Student Budget</th>        <th class=\"col_heading level0 col4\" >Average Math Score</th>        <th class=\"col_heading level0 col5\" >Average Reading Score</th>        <th class=\"col_heading level0 col6\" >Percent Passing Math</th>        <th class=\"col_heading level0 col7\" >Percent Passing Reading</th>        <th class=\"col_heading level0 col8\" >Overall Passing Rate</th>    </tr></thead><tbody>\n",
       "                <tr>\n",
       "                        <th id=\"T_a6ea9522_66d4_11ed_9c00_1cbfc0b08616level0_row0\" class=\"row_heading level0 row0\" >Bailey High School</th>\n",
       "                        <td id=\"T_a6ea9522_66d4_11ed_9c00_1cbfc0b08616row0_col0\" class=\"data row0 col0\" >District</td>\n",
       "                        <td id=\"T_a6ea9522_66d4_11ed_9c00_1cbfc0b08616row0_col1\" class=\"data row0 col1\" >4,976</td>\n",
       "                        <td id=\"T_a6ea9522_66d4_11ed_9c00_1cbfc0b08616row0_col2\" class=\"data row0 col2\" >$3,124,928</td>\n",
       "                        <td id=\"T_a6ea9522_66d4_11ed_9c00_1cbfc0b08616row0_col3\" class=\"data row0 col3\" >$628</td>\n",
       "                        <td id=\"T_a6ea9522_66d4_11ed_9c00_1cbfc0b08616row0_col4\" class=\"data row0 col4\" >77.05</td>\n",
       "                        <td id=\"T_a6ea9522_66d4_11ed_9c00_1cbfc0b08616row0_col5\" class=\"data row0 col5\" >81.03</td>\n",
       "                        <td id=\"T_a6ea9522_66d4_11ed_9c00_1cbfc0b08616row0_col6\" class=\"data row0 col6\" >66.68%</td>\n",
       "                        <td id=\"T_a6ea9522_66d4_11ed_9c00_1cbfc0b08616row0_col7\" class=\"data row0 col7\" >81.93%</td>\n",
       "                        <td id=\"T_a6ea9522_66d4_11ed_9c00_1cbfc0b08616row0_col8\" class=\"data row0 col8\" >54.64%</td>\n",
       "            </tr>\n",
       "            <tr>\n",
       "                        <th id=\"T_a6ea9522_66d4_11ed_9c00_1cbfc0b08616level0_row1\" class=\"row_heading level0 row1\" >Cabrera High School</th>\n",
       "                        <td id=\"T_a6ea9522_66d4_11ed_9c00_1cbfc0b08616row1_col0\" class=\"data row1 col0\" >Charter</td>\n",
       "                        <td id=\"T_a6ea9522_66d4_11ed_9c00_1cbfc0b08616row1_col1\" class=\"data row1 col1\" >1,858</td>\n",
       "                        <td id=\"T_a6ea9522_66d4_11ed_9c00_1cbfc0b08616row1_col2\" class=\"data row1 col2\" >$1,081,356</td>\n",
       "                        <td id=\"T_a6ea9522_66d4_11ed_9c00_1cbfc0b08616row1_col3\" class=\"data row1 col3\" >$582</td>\n",
       "                        <td id=\"T_a6ea9522_66d4_11ed_9c00_1cbfc0b08616row1_col4\" class=\"data row1 col4\" >83.06</td>\n",
       "                        <td id=\"T_a6ea9522_66d4_11ed_9c00_1cbfc0b08616row1_col5\" class=\"data row1 col5\" >83.98</td>\n",
       "                        <td id=\"T_a6ea9522_66d4_11ed_9c00_1cbfc0b08616row1_col6\" class=\"data row1 col6\" >94.13%</td>\n",
       "                        <td id=\"T_a6ea9522_66d4_11ed_9c00_1cbfc0b08616row1_col7\" class=\"data row1 col7\" >97.04%</td>\n",
       "                        <td id=\"T_a6ea9522_66d4_11ed_9c00_1cbfc0b08616row1_col8\" class=\"data row1 col8\" >91.33%</td>\n",
       "            </tr>\n",
       "            <tr>\n",
       "                        <th id=\"T_a6ea9522_66d4_11ed_9c00_1cbfc0b08616level0_row2\" class=\"row_heading level0 row2\" >Figueroa High School</th>\n",
       "                        <td id=\"T_a6ea9522_66d4_11ed_9c00_1cbfc0b08616row2_col0\" class=\"data row2 col0\" >District</td>\n",
       "                        <td id=\"T_a6ea9522_66d4_11ed_9c00_1cbfc0b08616row2_col1\" class=\"data row2 col1\" >2,949</td>\n",
       "                        <td id=\"T_a6ea9522_66d4_11ed_9c00_1cbfc0b08616row2_col2\" class=\"data row2 col2\" >$1,884,411</td>\n",
       "                        <td id=\"T_a6ea9522_66d4_11ed_9c00_1cbfc0b08616row2_col3\" class=\"data row2 col3\" >$639</td>\n",
       "                        <td id=\"T_a6ea9522_66d4_11ed_9c00_1cbfc0b08616row2_col4\" class=\"data row2 col4\" >76.71</td>\n",
       "                        <td id=\"T_a6ea9522_66d4_11ed_9c00_1cbfc0b08616row2_col5\" class=\"data row2 col5\" >81.16</td>\n",
       "                        <td id=\"T_a6ea9522_66d4_11ed_9c00_1cbfc0b08616row2_col6\" class=\"data row2 col6\" >65.99%</td>\n",
       "                        <td id=\"T_a6ea9522_66d4_11ed_9c00_1cbfc0b08616row2_col7\" class=\"data row2 col7\" >80.74%</td>\n",
       "                        <td id=\"T_a6ea9522_66d4_11ed_9c00_1cbfc0b08616row2_col8\" class=\"data row2 col8\" >53.20%</td>\n",
       "            </tr>\n",
       "            <tr>\n",
       "                        <th id=\"T_a6ea9522_66d4_11ed_9c00_1cbfc0b08616level0_row3\" class=\"row_heading level0 row3\" >Ford High School</th>\n",
       "                        <td id=\"T_a6ea9522_66d4_11ed_9c00_1cbfc0b08616row3_col0\" class=\"data row3 col0\" >District</td>\n",
       "                        <td id=\"T_a6ea9522_66d4_11ed_9c00_1cbfc0b08616row3_col1\" class=\"data row3 col1\" >2,739</td>\n",
       "                        <td id=\"T_a6ea9522_66d4_11ed_9c00_1cbfc0b08616row3_col2\" class=\"data row3 col2\" >$1,763,916</td>\n",
       "                        <td id=\"T_a6ea9522_66d4_11ed_9c00_1cbfc0b08616row3_col3\" class=\"data row3 col3\" >$644</td>\n",
       "                        <td id=\"T_a6ea9522_66d4_11ed_9c00_1cbfc0b08616row3_col4\" class=\"data row3 col4\" >77.10</td>\n",
       "                        <td id=\"T_a6ea9522_66d4_11ed_9c00_1cbfc0b08616row3_col5\" class=\"data row3 col5\" >80.75</td>\n",
       "                        <td id=\"T_a6ea9522_66d4_11ed_9c00_1cbfc0b08616row3_col6\" class=\"data row3 col6\" >68.31%</td>\n",
       "                        <td id=\"T_a6ea9522_66d4_11ed_9c00_1cbfc0b08616row3_col7\" class=\"data row3 col7\" >79.30%</td>\n",
       "                        <td id=\"T_a6ea9522_66d4_11ed_9c00_1cbfc0b08616row3_col8\" class=\"data row3 col8\" >54.29%</td>\n",
       "            </tr>\n",
       "            <tr>\n",
       "                        <th id=\"T_a6ea9522_66d4_11ed_9c00_1cbfc0b08616level0_row4\" class=\"row_heading level0 row4\" >Griffin High School</th>\n",
       "                        <td id=\"T_a6ea9522_66d4_11ed_9c00_1cbfc0b08616row4_col0\" class=\"data row4 col0\" >Charter</td>\n",
       "                        <td id=\"T_a6ea9522_66d4_11ed_9c00_1cbfc0b08616row4_col1\" class=\"data row4 col1\" >1,468</td>\n",
       "                        <td id=\"T_a6ea9522_66d4_11ed_9c00_1cbfc0b08616row4_col2\" class=\"data row4 col2\" >$917,500</td>\n",
       "                        <td id=\"T_a6ea9522_66d4_11ed_9c00_1cbfc0b08616row4_col3\" class=\"data row4 col3\" >$625</td>\n",
       "                        <td id=\"T_a6ea9522_66d4_11ed_9c00_1cbfc0b08616row4_col4\" class=\"data row4 col4\" >83.35</td>\n",
       "                        <td id=\"T_a6ea9522_66d4_11ed_9c00_1cbfc0b08616row4_col5\" class=\"data row4 col5\" >83.82</td>\n",
       "                        <td id=\"T_a6ea9522_66d4_11ed_9c00_1cbfc0b08616row4_col6\" class=\"data row4 col6\" >93.39%</td>\n",
       "                        <td id=\"T_a6ea9522_66d4_11ed_9c00_1cbfc0b08616row4_col7\" class=\"data row4 col7\" >97.14%</td>\n",
       "                        <td id=\"T_a6ea9522_66d4_11ed_9c00_1cbfc0b08616row4_col8\" class=\"data row4 col8\" >90.60%</td>\n",
       "            </tr>\n",
       "            <tr>\n",
       "                        <th id=\"T_a6ea9522_66d4_11ed_9c00_1cbfc0b08616level0_row5\" class=\"row_heading level0 row5\" >Hernandez High School</th>\n",
       "                        <td id=\"T_a6ea9522_66d4_11ed_9c00_1cbfc0b08616row5_col0\" class=\"data row5 col0\" >District</td>\n",
       "                        <td id=\"T_a6ea9522_66d4_11ed_9c00_1cbfc0b08616row5_col1\" class=\"data row5 col1\" >4,635</td>\n",
       "                        <td id=\"T_a6ea9522_66d4_11ed_9c00_1cbfc0b08616row5_col2\" class=\"data row5 col2\" >$3,022,020</td>\n",
       "                        <td id=\"T_a6ea9522_66d4_11ed_9c00_1cbfc0b08616row5_col3\" class=\"data row5 col3\" >$652</td>\n",
       "                        <td id=\"T_a6ea9522_66d4_11ed_9c00_1cbfc0b08616row5_col4\" class=\"data row5 col4\" >77.29</td>\n",
       "                        <td id=\"T_a6ea9522_66d4_11ed_9c00_1cbfc0b08616row5_col5\" class=\"data row5 col5\" >80.93</td>\n",
       "                        <td id=\"T_a6ea9522_66d4_11ed_9c00_1cbfc0b08616row5_col6\" class=\"data row5 col6\" >66.75%</td>\n",
       "                        <td id=\"T_a6ea9522_66d4_11ed_9c00_1cbfc0b08616row5_col7\" class=\"data row5 col7\" >80.86%</td>\n",
       "                        <td id=\"T_a6ea9522_66d4_11ed_9c00_1cbfc0b08616row5_col8\" class=\"data row5 col8\" >53.53%</td>\n",
       "            </tr>\n",
       "            <tr>\n",
       "                        <th id=\"T_a6ea9522_66d4_11ed_9c00_1cbfc0b08616level0_row6\" class=\"row_heading level0 row6\" >Holden High School</th>\n",
       "                        <td id=\"T_a6ea9522_66d4_11ed_9c00_1cbfc0b08616row6_col0\" class=\"data row6 col0\" >Charter</td>\n",
       "                        <td id=\"T_a6ea9522_66d4_11ed_9c00_1cbfc0b08616row6_col1\" class=\"data row6 col1\" >427</td>\n",
       "                        <td id=\"T_a6ea9522_66d4_11ed_9c00_1cbfc0b08616row6_col2\" class=\"data row6 col2\" >$248,087</td>\n",
       "                        <td id=\"T_a6ea9522_66d4_11ed_9c00_1cbfc0b08616row6_col3\" class=\"data row6 col3\" >$581</td>\n",
       "                        <td id=\"T_a6ea9522_66d4_11ed_9c00_1cbfc0b08616row6_col4\" class=\"data row6 col4\" >83.80</td>\n",
       "                        <td id=\"T_a6ea9522_66d4_11ed_9c00_1cbfc0b08616row6_col5\" class=\"data row6 col5\" >83.81</td>\n",
       "                        <td id=\"T_a6ea9522_66d4_11ed_9c00_1cbfc0b08616row6_col6\" class=\"data row6 col6\" >92.51%</td>\n",
       "                        <td id=\"T_a6ea9522_66d4_11ed_9c00_1cbfc0b08616row6_col7\" class=\"data row6 col7\" >96.25%</td>\n",
       "                        <td id=\"T_a6ea9522_66d4_11ed_9c00_1cbfc0b08616row6_col8\" class=\"data row6 col8\" >89.23%</td>\n",
       "            </tr>\n",
       "            <tr>\n",
       "                        <th id=\"T_a6ea9522_66d4_11ed_9c00_1cbfc0b08616level0_row7\" class=\"row_heading level0 row7\" >Huang High School</th>\n",
       "                        <td id=\"T_a6ea9522_66d4_11ed_9c00_1cbfc0b08616row7_col0\" class=\"data row7 col0\" >District</td>\n",
       "                        <td id=\"T_a6ea9522_66d4_11ed_9c00_1cbfc0b08616row7_col1\" class=\"data row7 col1\" >2,917</td>\n",
       "                        <td id=\"T_a6ea9522_66d4_11ed_9c00_1cbfc0b08616row7_col2\" class=\"data row7 col2\" >$1,910,635</td>\n",
       "                        <td id=\"T_a6ea9522_66d4_11ed_9c00_1cbfc0b08616row7_col3\" class=\"data row7 col3\" >$655</td>\n",
       "                        <td id=\"T_a6ea9522_66d4_11ed_9c00_1cbfc0b08616row7_col4\" class=\"data row7 col4\" >76.63</td>\n",
       "                        <td id=\"T_a6ea9522_66d4_11ed_9c00_1cbfc0b08616row7_col5\" class=\"data row7 col5\" >81.18</td>\n",
       "                        <td id=\"T_a6ea9522_66d4_11ed_9c00_1cbfc0b08616row7_col6\" class=\"data row7 col6\" >65.68%</td>\n",
       "                        <td id=\"T_a6ea9522_66d4_11ed_9c00_1cbfc0b08616row7_col7\" class=\"data row7 col7\" >81.32%</td>\n",
       "                        <td id=\"T_a6ea9522_66d4_11ed_9c00_1cbfc0b08616row7_col8\" class=\"data row7 col8\" >53.51%</td>\n",
       "            </tr>\n",
       "            <tr>\n",
       "                        <th id=\"T_a6ea9522_66d4_11ed_9c00_1cbfc0b08616level0_row8\" class=\"row_heading level0 row8\" >Johnson High School</th>\n",
       "                        <td id=\"T_a6ea9522_66d4_11ed_9c00_1cbfc0b08616row8_col0\" class=\"data row8 col0\" >District</td>\n",
       "                        <td id=\"T_a6ea9522_66d4_11ed_9c00_1cbfc0b08616row8_col1\" class=\"data row8 col1\" >4,761</td>\n",
       "                        <td id=\"T_a6ea9522_66d4_11ed_9c00_1cbfc0b08616row8_col2\" class=\"data row8 col2\" >$3,094,650</td>\n",
       "                        <td id=\"T_a6ea9522_66d4_11ed_9c00_1cbfc0b08616row8_col3\" class=\"data row8 col3\" >$650</td>\n",
       "                        <td id=\"T_a6ea9522_66d4_11ed_9c00_1cbfc0b08616row8_col4\" class=\"data row8 col4\" >77.07</td>\n",
       "                        <td id=\"T_a6ea9522_66d4_11ed_9c00_1cbfc0b08616row8_col5\" class=\"data row8 col5\" >80.97</td>\n",
       "                        <td id=\"T_a6ea9522_66d4_11ed_9c00_1cbfc0b08616row8_col6\" class=\"data row8 col6\" >66.06%</td>\n",
       "                        <td id=\"T_a6ea9522_66d4_11ed_9c00_1cbfc0b08616row8_col7\" class=\"data row8 col7\" >81.22%</td>\n",
       "                        <td id=\"T_a6ea9522_66d4_11ed_9c00_1cbfc0b08616row8_col8\" class=\"data row8 col8\" >53.54%</td>\n",
       "            </tr>\n",
       "            <tr>\n",
       "                        <th id=\"T_a6ea9522_66d4_11ed_9c00_1cbfc0b08616level0_row9\" class=\"row_heading level0 row9\" >Pena High School</th>\n",
       "                        <td id=\"T_a6ea9522_66d4_11ed_9c00_1cbfc0b08616row9_col0\" class=\"data row9 col0\" >Charter</td>\n",
       "                        <td id=\"T_a6ea9522_66d4_11ed_9c00_1cbfc0b08616row9_col1\" class=\"data row9 col1\" >962</td>\n",
       "                        <td id=\"T_a6ea9522_66d4_11ed_9c00_1cbfc0b08616row9_col2\" class=\"data row9 col2\" >$585,858</td>\n",
       "                        <td id=\"T_a6ea9522_66d4_11ed_9c00_1cbfc0b08616row9_col3\" class=\"data row9 col3\" >$609</td>\n",
       "                        <td id=\"T_a6ea9522_66d4_11ed_9c00_1cbfc0b08616row9_col4\" class=\"data row9 col4\" >83.84</td>\n",
       "                        <td id=\"T_a6ea9522_66d4_11ed_9c00_1cbfc0b08616row9_col5\" class=\"data row9 col5\" >84.04</td>\n",
       "                        <td id=\"T_a6ea9522_66d4_11ed_9c00_1cbfc0b08616row9_col6\" class=\"data row9 col6\" >94.59%</td>\n",
       "                        <td id=\"T_a6ea9522_66d4_11ed_9c00_1cbfc0b08616row9_col7\" class=\"data row9 col7\" >95.95%</td>\n",
       "                        <td id=\"T_a6ea9522_66d4_11ed_9c00_1cbfc0b08616row9_col8\" class=\"data row9 col8\" >90.54%</td>\n",
       "            </tr>\n",
       "            <tr>\n",
       "                        <th id=\"T_a6ea9522_66d4_11ed_9c00_1cbfc0b08616level0_row10\" class=\"row_heading level0 row10\" >Rodriguez High School</th>\n",
       "                        <td id=\"T_a6ea9522_66d4_11ed_9c00_1cbfc0b08616row10_col0\" class=\"data row10 col0\" >District</td>\n",
       "                        <td id=\"T_a6ea9522_66d4_11ed_9c00_1cbfc0b08616row10_col1\" class=\"data row10 col1\" >3,999</td>\n",
       "                        <td id=\"T_a6ea9522_66d4_11ed_9c00_1cbfc0b08616row10_col2\" class=\"data row10 col2\" >$2,547,363</td>\n",
       "                        <td id=\"T_a6ea9522_66d4_11ed_9c00_1cbfc0b08616row10_col3\" class=\"data row10 col3\" >$637</td>\n",
       "                        <td id=\"T_a6ea9522_66d4_11ed_9c00_1cbfc0b08616row10_col4\" class=\"data row10 col4\" >76.84</td>\n",
       "                        <td id=\"T_a6ea9522_66d4_11ed_9c00_1cbfc0b08616row10_col5\" class=\"data row10 col5\" >80.74</td>\n",
       "                        <td id=\"T_a6ea9522_66d4_11ed_9c00_1cbfc0b08616row10_col6\" class=\"data row10 col6\" >66.37%</td>\n",
       "                        <td id=\"T_a6ea9522_66d4_11ed_9c00_1cbfc0b08616row10_col7\" class=\"data row10 col7\" >80.22%</td>\n",
       "                        <td id=\"T_a6ea9522_66d4_11ed_9c00_1cbfc0b08616row10_col8\" class=\"data row10 col8\" >52.99%</td>\n",
       "            </tr>\n",
       "            <tr>\n",
       "                        <th id=\"T_a6ea9522_66d4_11ed_9c00_1cbfc0b08616level0_row11\" class=\"row_heading level0 row11\" >Shelton High School</th>\n",
       "                        <td id=\"T_a6ea9522_66d4_11ed_9c00_1cbfc0b08616row11_col0\" class=\"data row11 col0\" >Charter</td>\n",
       "                        <td id=\"T_a6ea9522_66d4_11ed_9c00_1cbfc0b08616row11_col1\" class=\"data row11 col1\" >1,761</td>\n",
       "                        <td id=\"T_a6ea9522_66d4_11ed_9c00_1cbfc0b08616row11_col2\" class=\"data row11 col2\" >$1,056,600</td>\n",
       "                        <td id=\"T_a6ea9522_66d4_11ed_9c00_1cbfc0b08616row11_col3\" class=\"data row11 col3\" >$600</td>\n",
       "                        <td id=\"T_a6ea9522_66d4_11ed_9c00_1cbfc0b08616row11_col4\" class=\"data row11 col4\" >83.36</td>\n",
       "                        <td id=\"T_a6ea9522_66d4_11ed_9c00_1cbfc0b08616row11_col5\" class=\"data row11 col5\" >83.73</td>\n",
       "                        <td id=\"T_a6ea9522_66d4_11ed_9c00_1cbfc0b08616row11_col6\" class=\"data row11 col6\" >93.87%</td>\n",
       "                        <td id=\"T_a6ea9522_66d4_11ed_9c00_1cbfc0b08616row11_col7\" class=\"data row11 col7\" >95.85%</td>\n",
       "                        <td id=\"T_a6ea9522_66d4_11ed_9c00_1cbfc0b08616row11_col8\" class=\"data row11 col8\" >89.89%</td>\n",
       "            </tr>\n",
       "            <tr>\n",
       "                        <th id=\"T_a6ea9522_66d4_11ed_9c00_1cbfc0b08616level0_row12\" class=\"row_heading level0 row12\" >Thomas High School</th>\n",
       "                        <td id=\"T_a6ea9522_66d4_11ed_9c00_1cbfc0b08616row12_col0\" class=\"data row12 col0\" >Charter</td>\n",
       "                        <td id=\"T_a6ea9522_66d4_11ed_9c00_1cbfc0b08616row12_col1\" class=\"data row12 col1\" >1,635</td>\n",
       "                        <td id=\"T_a6ea9522_66d4_11ed_9c00_1cbfc0b08616row12_col2\" class=\"data row12 col2\" >$1,043,130</td>\n",
       "                        <td id=\"T_a6ea9522_66d4_11ed_9c00_1cbfc0b08616row12_col3\" class=\"data row12 col3\" >$638</td>\n",
       "                        <td id=\"T_a6ea9522_66d4_11ed_9c00_1cbfc0b08616row12_col4\" class=\"data row12 col4\" >83.42</td>\n",
       "                        <td id=\"T_a6ea9522_66d4_11ed_9c00_1cbfc0b08616row12_col5\" class=\"data row12 col5\" >83.85</td>\n",
       "                        <td id=\"T_a6ea9522_66d4_11ed_9c00_1cbfc0b08616row12_col6\" class=\"data row12 col6\" >93.27%</td>\n",
       "                        <td id=\"T_a6ea9522_66d4_11ed_9c00_1cbfc0b08616row12_col7\" class=\"data row12 col7\" >97.31%</td>\n",
       "                        <td id=\"T_a6ea9522_66d4_11ed_9c00_1cbfc0b08616row12_col8\" class=\"data row12 col8\" >90.95%</td>\n",
       "            </tr>\n",
       "            <tr>\n",
       "                        <th id=\"T_a6ea9522_66d4_11ed_9c00_1cbfc0b08616level0_row13\" class=\"row_heading level0 row13\" >Wilson High School</th>\n",
       "                        <td id=\"T_a6ea9522_66d4_11ed_9c00_1cbfc0b08616row13_col0\" class=\"data row13 col0\" >Charter</td>\n",
       "                        <td id=\"T_a6ea9522_66d4_11ed_9c00_1cbfc0b08616row13_col1\" class=\"data row13 col1\" >2,283</td>\n",
       "                        <td id=\"T_a6ea9522_66d4_11ed_9c00_1cbfc0b08616row13_col2\" class=\"data row13 col2\" >$1,319,574</td>\n",
       "                        <td id=\"T_a6ea9522_66d4_11ed_9c00_1cbfc0b08616row13_col3\" class=\"data row13 col3\" >$578</td>\n",
       "                        <td id=\"T_a6ea9522_66d4_11ed_9c00_1cbfc0b08616row13_col4\" class=\"data row13 col4\" >83.27</td>\n",
       "                        <td id=\"T_a6ea9522_66d4_11ed_9c00_1cbfc0b08616row13_col5\" class=\"data row13 col5\" >83.99</td>\n",
       "                        <td id=\"T_a6ea9522_66d4_11ed_9c00_1cbfc0b08616row13_col6\" class=\"data row13 col6\" >93.87%</td>\n",
       "                        <td id=\"T_a6ea9522_66d4_11ed_9c00_1cbfc0b08616row13_col7\" class=\"data row13 col7\" >96.54%</td>\n",
       "                        <td id=\"T_a6ea9522_66d4_11ed_9c00_1cbfc0b08616row13_col8\" class=\"data row13 col8\" >90.58%</td>\n",
       "            </tr>\n",
       "            <tr>\n",
       "                        <th id=\"T_a6ea9522_66d4_11ed_9c00_1cbfc0b08616level0_row14\" class=\"row_heading level0 row14\" >Wright High School</th>\n",
       "                        <td id=\"T_a6ea9522_66d4_11ed_9c00_1cbfc0b08616row14_col0\" class=\"data row14 col0\" >Charter</td>\n",
       "                        <td id=\"T_a6ea9522_66d4_11ed_9c00_1cbfc0b08616row14_col1\" class=\"data row14 col1\" >1,800</td>\n",
       "                        <td id=\"T_a6ea9522_66d4_11ed_9c00_1cbfc0b08616row14_col2\" class=\"data row14 col2\" >$1,049,400</td>\n",
       "                        <td id=\"T_a6ea9522_66d4_11ed_9c00_1cbfc0b08616row14_col3\" class=\"data row14 col3\" >$583</td>\n",
       "                        <td id=\"T_a6ea9522_66d4_11ed_9c00_1cbfc0b08616row14_col4\" class=\"data row14 col4\" >83.68</td>\n",
       "                        <td id=\"T_a6ea9522_66d4_11ed_9c00_1cbfc0b08616row14_col5\" class=\"data row14 col5\" >83.95</td>\n",
       "                        <td id=\"T_a6ea9522_66d4_11ed_9c00_1cbfc0b08616row14_col6\" class=\"data row14 col6\" >93.33%</td>\n",
       "                        <td id=\"T_a6ea9522_66d4_11ed_9c00_1cbfc0b08616row14_col7\" class=\"data row14 col7\" >96.61%</td>\n",
       "                        <td id=\"T_a6ea9522_66d4_11ed_9c00_1cbfc0b08616row14_col8\" class=\"data row14 col8\" >90.33%</td>\n",
       "            </tr>\n",
       "    </tbody></table>"
      ],
      "text/plain": [
       "<pandas.io.formats.style.Styler at 0x28f3f84f5c8>"
      ]
     },
     "execution_count": 75,
     "metadata": {},
     "output_type": "execute_result"
    }
   ],
   "source": [
    "sch_summary.style.format({\n",
    "    \n",
    "    \"Total Students\": '{:,}',\n",
    "    \"Total School Budget\":  \"${:,}\",\n",
    "    \"Per Student Budget\": \"${:.0f}\",\n",
    "    \"Average Math Score\": '{:.2f}',\n",
    "    \"Average Reading Score\": '{:.2f}',\n",
    "    \"Percent Passing Math\": '{:.2%}',\n",
    "    \"Percent Passing Reading\": '{:.2%}',\n",
    "    \"Overall Passing Rate\": '{:.2%}'\n",
    "})"
   ]
  },
  {
   "cell_type": "code",
   "execution_count": 18,
   "id": "531d356f",
   "metadata": {},
   "outputs": [],
   "source": [
    "# Top Performing Schools (By % Overall Passing)"
   ]
  },
  {
   "cell_type": "code",
   "execution_count": 19,
   "id": "1c8a97a9",
   "metadata": {},
   "outputs": [],
   "source": [
    "top_perf = sch_summary. sort_values(\"Overall Passing Rate\", ascending = False)"
   ]
  },
  {
   "cell_type": "code",
   "execution_count": 76,
   "id": "6fbb9bb4",
   "metadata": {},
   "outputs": [
    {
     "data": {
      "text/html": [
       "<style  type=\"text/css\" >\n",
       "</style><table id=\"T_e8414592_66d4_11ed_81bb_1cbfc0b08616\" ><thead>    <tr>        <th class=\"blank level0\" ></th>        <th class=\"col_heading level0 col0\" >School Type</th>        <th class=\"col_heading level0 col1\" >Total Students</th>        <th class=\"col_heading level0 col2\" >Total School Budget</th>        <th class=\"col_heading level0 col3\" >Per Student Budget</th>        <th class=\"col_heading level0 col4\" >Average Math Score</th>        <th class=\"col_heading level0 col5\" >Average Reading Score</th>        <th class=\"col_heading level0 col6\" >Percent Passing Math</th>        <th class=\"col_heading level0 col7\" >Percent Passing Reading</th>        <th class=\"col_heading level0 col8\" >Overall Passing Rate</th>    </tr></thead><tbody>\n",
       "                <tr>\n",
       "                        <th id=\"T_e8414592_66d4_11ed_81bb_1cbfc0b08616level0_row0\" class=\"row_heading level0 row0\" >Cabrera High School</th>\n",
       "                        <td id=\"T_e8414592_66d4_11ed_81bb_1cbfc0b08616row0_col0\" class=\"data row0 col0\" >Charter</td>\n",
       "                        <td id=\"T_e8414592_66d4_11ed_81bb_1cbfc0b08616row0_col1\" class=\"data row0 col1\" >1,858</td>\n",
       "                        <td id=\"T_e8414592_66d4_11ed_81bb_1cbfc0b08616row0_col2\" class=\"data row0 col2\" >$1,081,356</td>\n",
       "                        <td id=\"T_e8414592_66d4_11ed_81bb_1cbfc0b08616row0_col3\" class=\"data row0 col3\" >$582</td>\n",
       "                        <td id=\"T_e8414592_66d4_11ed_81bb_1cbfc0b08616row0_col4\" class=\"data row0 col4\" >83.06</td>\n",
       "                        <td id=\"T_e8414592_66d4_11ed_81bb_1cbfc0b08616row0_col5\" class=\"data row0 col5\" >83.98</td>\n",
       "                        <td id=\"T_e8414592_66d4_11ed_81bb_1cbfc0b08616row0_col6\" class=\"data row0 col6\" >94.13%</td>\n",
       "                        <td id=\"T_e8414592_66d4_11ed_81bb_1cbfc0b08616row0_col7\" class=\"data row0 col7\" >97.04%</td>\n",
       "                        <td id=\"T_e8414592_66d4_11ed_81bb_1cbfc0b08616row0_col8\" class=\"data row0 col8\" >91.33%</td>\n",
       "            </tr>\n",
       "            <tr>\n",
       "                        <th id=\"T_e8414592_66d4_11ed_81bb_1cbfc0b08616level0_row1\" class=\"row_heading level0 row1\" >Thomas High School</th>\n",
       "                        <td id=\"T_e8414592_66d4_11ed_81bb_1cbfc0b08616row1_col0\" class=\"data row1 col0\" >Charter</td>\n",
       "                        <td id=\"T_e8414592_66d4_11ed_81bb_1cbfc0b08616row1_col1\" class=\"data row1 col1\" >1,635</td>\n",
       "                        <td id=\"T_e8414592_66d4_11ed_81bb_1cbfc0b08616row1_col2\" class=\"data row1 col2\" >$1,043,130</td>\n",
       "                        <td id=\"T_e8414592_66d4_11ed_81bb_1cbfc0b08616row1_col3\" class=\"data row1 col3\" >$638</td>\n",
       "                        <td id=\"T_e8414592_66d4_11ed_81bb_1cbfc0b08616row1_col4\" class=\"data row1 col4\" >83.42</td>\n",
       "                        <td id=\"T_e8414592_66d4_11ed_81bb_1cbfc0b08616row1_col5\" class=\"data row1 col5\" >83.85</td>\n",
       "                        <td id=\"T_e8414592_66d4_11ed_81bb_1cbfc0b08616row1_col6\" class=\"data row1 col6\" >93.27%</td>\n",
       "                        <td id=\"T_e8414592_66d4_11ed_81bb_1cbfc0b08616row1_col7\" class=\"data row1 col7\" >97.31%</td>\n",
       "                        <td id=\"T_e8414592_66d4_11ed_81bb_1cbfc0b08616row1_col8\" class=\"data row1 col8\" >90.95%</td>\n",
       "            </tr>\n",
       "            <tr>\n",
       "                        <th id=\"T_e8414592_66d4_11ed_81bb_1cbfc0b08616level0_row2\" class=\"row_heading level0 row2\" >Griffin High School</th>\n",
       "                        <td id=\"T_e8414592_66d4_11ed_81bb_1cbfc0b08616row2_col0\" class=\"data row2 col0\" >Charter</td>\n",
       "                        <td id=\"T_e8414592_66d4_11ed_81bb_1cbfc0b08616row2_col1\" class=\"data row2 col1\" >1,468</td>\n",
       "                        <td id=\"T_e8414592_66d4_11ed_81bb_1cbfc0b08616row2_col2\" class=\"data row2 col2\" >$917,500</td>\n",
       "                        <td id=\"T_e8414592_66d4_11ed_81bb_1cbfc0b08616row2_col3\" class=\"data row2 col3\" >$625</td>\n",
       "                        <td id=\"T_e8414592_66d4_11ed_81bb_1cbfc0b08616row2_col4\" class=\"data row2 col4\" >83.35</td>\n",
       "                        <td id=\"T_e8414592_66d4_11ed_81bb_1cbfc0b08616row2_col5\" class=\"data row2 col5\" >83.82</td>\n",
       "                        <td id=\"T_e8414592_66d4_11ed_81bb_1cbfc0b08616row2_col6\" class=\"data row2 col6\" >93.39%</td>\n",
       "                        <td id=\"T_e8414592_66d4_11ed_81bb_1cbfc0b08616row2_col7\" class=\"data row2 col7\" >97.14%</td>\n",
       "                        <td id=\"T_e8414592_66d4_11ed_81bb_1cbfc0b08616row2_col8\" class=\"data row2 col8\" >90.60%</td>\n",
       "            </tr>\n",
       "            <tr>\n",
       "                        <th id=\"T_e8414592_66d4_11ed_81bb_1cbfc0b08616level0_row3\" class=\"row_heading level0 row3\" >Wilson High School</th>\n",
       "                        <td id=\"T_e8414592_66d4_11ed_81bb_1cbfc0b08616row3_col0\" class=\"data row3 col0\" >Charter</td>\n",
       "                        <td id=\"T_e8414592_66d4_11ed_81bb_1cbfc0b08616row3_col1\" class=\"data row3 col1\" >2,283</td>\n",
       "                        <td id=\"T_e8414592_66d4_11ed_81bb_1cbfc0b08616row3_col2\" class=\"data row3 col2\" >$1,319,574</td>\n",
       "                        <td id=\"T_e8414592_66d4_11ed_81bb_1cbfc0b08616row3_col3\" class=\"data row3 col3\" >$578</td>\n",
       "                        <td id=\"T_e8414592_66d4_11ed_81bb_1cbfc0b08616row3_col4\" class=\"data row3 col4\" >83.27</td>\n",
       "                        <td id=\"T_e8414592_66d4_11ed_81bb_1cbfc0b08616row3_col5\" class=\"data row3 col5\" >83.99</td>\n",
       "                        <td id=\"T_e8414592_66d4_11ed_81bb_1cbfc0b08616row3_col6\" class=\"data row3 col6\" >93.87%</td>\n",
       "                        <td id=\"T_e8414592_66d4_11ed_81bb_1cbfc0b08616row3_col7\" class=\"data row3 col7\" >96.54%</td>\n",
       "                        <td id=\"T_e8414592_66d4_11ed_81bb_1cbfc0b08616row3_col8\" class=\"data row3 col8\" >90.58%</td>\n",
       "            </tr>\n",
       "            <tr>\n",
       "                        <th id=\"T_e8414592_66d4_11ed_81bb_1cbfc0b08616level0_row4\" class=\"row_heading level0 row4\" >Pena High School</th>\n",
       "                        <td id=\"T_e8414592_66d4_11ed_81bb_1cbfc0b08616row4_col0\" class=\"data row4 col0\" >Charter</td>\n",
       "                        <td id=\"T_e8414592_66d4_11ed_81bb_1cbfc0b08616row4_col1\" class=\"data row4 col1\" >962</td>\n",
       "                        <td id=\"T_e8414592_66d4_11ed_81bb_1cbfc0b08616row4_col2\" class=\"data row4 col2\" >$585,858</td>\n",
       "                        <td id=\"T_e8414592_66d4_11ed_81bb_1cbfc0b08616row4_col3\" class=\"data row4 col3\" >$609</td>\n",
       "                        <td id=\"T_e8414592_66d4_11ed_81bb_1cbfc0b08616row4_col4\" class=\"data row4 col4\" >83.84</td>\n",
       "                        <td id=\"T_e8414592_66d4_11ed_81bb_1cbfc0b08616row4_col5\" class=\"data row4 col5\" >84.04</td>\n",
       "                        <td id=\"T_e8414592_66d4_11ed_81bb_1cbfc0b08616row4_col6\" class=\"data row4 col6\" >94.59%</td>\n",
       "                        <td id=\"T_e8414592_66d4_11ed_81bb_1cbfc0b08616row4_col7\" class=\"data row4 col7\" >95.95%</td>\n",
       "                        <td id=\"T_e8414592_66d4_11ed_81bb_1cbfc0b08616row4_col8\" class=\"data row4 col8\" >90.54%</td>\n",
       "            </tr>\n",
       "    </tbody></table>"
      ],
      "text/plain": [
       "<pandas.io.formats.style.Styler at 0x28f3f8829c8>"
      ]
     },
     "execution_count": 76,
     "metadata": {},
     "output_type": "execute_result"
    }
   ],
   "source": [
    "top_perf.head().style.format({\n",
    "    \n",
    "    \"Total Students\": '{:,}',\n",
    "    \"Total School Budget\":  \"${:,}\",\n",
    "    \"Per Student Budget\": \"${:.0f}\",\n",
    "    \"Average Math Score\": '{:.2f}',\n",
    "    \"Average Reading Score\": '{:.2f}',\n",
    "    \"Percent Passing Math\": '{:.2%}',\n",
    "    \"Percent Passing Reading\": '{:.2%}',\n",
    "    \"Overall Passing Rate\": '{:.2%}'\n",
    "\n",
    "})"
   ]
  },
  {
   "cell_type": "code",
   "execution_count": 21,
   "id": "0883994e",
   "metadata": {},
   "outputs": [],
   "source": [
    "# Bottom Performing Schools (By % Overall Passing)"
   ]
  },
  {
   "cell_type": "code",
   "execution_count": 22,
   "id": "39dab740",
   "metadata": {},
   "outputs": [],
   "source": [
    "bottom_perf = top_perf.tail()"
   ]
  },
  {
   "cell_type": "code",
   "execution_count": 23,
   "id": "1383335e",
   "metadata": {},
   "outputs": [],
   "source": [
    "bottom_perf = bottom_perf.sort_values(\"Overall Passing Rate\")"
   ]
  },
  {
   "cell_type": "code",
   "execution_count": 77,
   "id": "25ec4d0e",
   "metadata": {},
   "outputs": [
    {
     "data": {
      "text/html": [
       "<style  type=\"text/css\" >\n",
       "</style><table id=\"T_f96ba6c0_66d4_11ed_8182_1cbfc0b08616\" ><thead>    <tr>        <th class=\"blank level0\" ></th>        <th class=\"col_heading level0 col0\" >School Type</th>        <th class=\"col_heading level0 col1\" >Total Students</th>        <th class=\"col_heading level0 col2\" >Total School Budget</th>        <th class=\"col_heading level0 col3\" >Per Student Budget</th>        <th class=\"col_heading level0 col4\" >Average Math Score</th>        <th class=\"col_heading level0 col5\" >Average Reading Score</th>        <th class=\"col_heading level0 col6\" >Percent Passing Math</th>        <th class=\"col_heading level0 col7\" >Percent Passing Reading</th>        <th class=\"col_heading level0 col8\" >Overall Passing Rate</th>    </tr></thead><tbody>\n",
       "                <tr>\n",
       "                        <th id=\"T_f96ba6c0_66d4_11ed_8182_1cbfc0b08616level0_row0\" class=\"row_heading level0 row0\" >Rodriguez High School</th>\n",
       "                        <td id=\"T_f96ba6c0_66d4_11ed_8182_1cbfc0b08616row0_col0\" class=\"data row0 col0\" >District</td>\n",
       "                        <td id=\"T_f96ba6c0_66d4_11ed_8182_1cbfc0b08616row0_col1\" class=\"data row0 col1\" >3,999</td>\n",
       "                        <td id=\"T_f96ba6c0_66d4_11ed_8182_1cbfc0b08616row0_col2\" class=\"data row0 col2\" >$2,547,363</td>\n",
       "                        <td id=\"T_f96ba6c0_66d4_11ed_8182_1cbfc0b08616row0_col3\" class=\"data row0 col3\" >$637</td>\n",
       "                        <td id=\"T_f96ba6c0_66d4_11ed_8182_1cbfc0b08616row0_col4\" class=\"data row0 col4\" >76.84</td>\n",
       "                        <td id=\"T_f96ba6c0_66d4_11ed_8182_1cbfc0b08616row0_col5\" class=\"data row0 col5\" >80.74</td>\n",
       "                        <td id=\"T_f96ba6c0_66d4_11ed_8182_1cbfc0b08616row0_col6\" class=\"data row0 col6\" >66.37%</td>\n",
       "                        <td id=\"T_f96ba6c0_66d4_11ed_8182_1cbfc0b08616row0_col7\" class=\"data row0 col7\" >80.22%</td>\n",
       "                        <td id=\"T_f96ba6c0_66d4_11ed_8182_1cbfc0b08616row0_col8\" class=\"data row0 col8\" >52.99%</td>\n",
       "            </tr>\n",
       "            <tr>\n",
       "                        <th id=\"T_f96ba6c0_66d4_11ed_8182_1cbfc0b08616level0_row1\" class=\"row_heading level0 row1\" >Figueroa High School</th>\n",
       "                        <td id=\"T_f96ba6c0_66d4_11ed_8182_1cbfc0b08616row1_col0\" class=\"data row1 col0\" >District</td>\n",
       "                        <td id=\"T_f96ba6c0_66d4_11ed_8182_1cbfc0b08616row1_col1\" class=\"data row1 col1\" >2,949</td>\n",
       "                        <td id=\"T_f96ba6c0_66d4_11ed_8182_1cbfc0b08616row1_col2\" class=\"data row1 col2\" >$1,884,411</td>\n",
       "                        <td id=\"T_f96ba6c0_66d4_11ed_8182_1cbfc0b08616row1_col3\" class=\"data row1 col3\" >$639</td>\n",
       "                        <td id=\"T_f96ba6c0_66d4_11ed_8182_1cbfc0b08616row1_col4\" class=\"data row1 col4\" >76.71</td>\n",
       "                        <td id=\"T_f96ba6c0_66d4_11ed_8182_1cbfc0b08616row1_col5\" class=\"data row1 col5\" >81.16</td>\n",
       "                        <td id=\"T_f96ba6c0_66d4_11ed_8182_1cbfc0b08616row1_col6\" class=\"data row1 col6\" >65.99%</td>\n",
       "                        <td id=\"T_f96ba6c0_66d4_11ed_8182_1cbfc0b08616row1_col7\" class=\"data row1 col7\" >80.74%</td>\n",
       "                        <td id=\"T_f96ba6c0_66d4_11ed_8182_1cbfc0b08616row1_col8\" class=\"data row1 col8\" >53.20%</td>\n",
       "            </tr>\n",
       "            <tr>\n",
       "                        <th id=\"T_f96ba6c0_66d4_11ed_8182_1cbfc0b08616level0_row2\" class=\"row_heading level0 row2\" >Huang High School</th>\n",
       "                        <td id=\"T_f96ba6c0_66d4_11ed_8182_1cbfc0b08616row2_col0\" class=\"data row2 col0\" >District</td>\n",
       "                        <td id=\"T_f96ba6c0_66d4_11ed_8182_1cbfc0b08616row2_col1\" class=\"data row2 col1\" >2,917</td>\n",
       "                        <td id=\"T_f96ba6c0_66d4_11ed_8182_1cbfc0b08616row2_col2\" class=\"data row2 col2\" >$1,910,635</td>\n",
       "                        <td id=\"T_f96ba6c0_66d4_11ed_8182_1cbfc0b08616row2_col3\" class=\"data row2 col3\" >$655</td>\n",
       "                        <td id=\"T_f96ba6c0_66d4_11ed_8182_1cbfc0b08616row2_col4\" class=\"data row2 col4\" >76.63</td>\n",
       "                        <td id=\"T_f96ba6c0_66d4_11ed_8182_1cbfc0b08616row2_col5\" class=\"data row2 col5\" >81.18</td>\n",
       "                        <td id=\"T_f96ba6c0_66d4_11ed_8182_1cbfc0b08616row2_col6\" class=\"data row2 col6\" >65.68%</td>\n",
       "                        <td id=\"T_f96ba6c0_66d4_11ed_8182_1cbfc0b08616row2_col7\" class=\"data row2 col7\" >81.32%</td>\n",
       "                        <td id=\"T_f96ba6c0_66d4_11ed_8182_1cbfc0b08616row2_col8\" class=\"data row2 col8\" >53.51%</td>\n",
       "            </tr>\n",
       "            <tr>\n",
       "                        <th id=\"T_f96ba6c0_66d4_11ed_8182_1cbfc0b08616level0_row3\" class=\"row_heading level0 row3\" >Hernandez High School</th>\n",
       "                        <td id=\"T_f96ba6c0_66d4_11ed_8182_1cbfc0b08616row3_col0\" class=\"data row3 col0\" >District</td>\n",
       "                        <td id=\"T_f96ba6c0_66d4_11ed_8182_1cbfc0b08616row3_col1\" class=\"data row3 col1\" >4,635</td>\n",
       "                        <td id=\"T_f96ba6c0_66d4_11ed_8182_1cbfc0b08616row3_col2\" class=\"data row3 col2\" >$3,022,020</td>\n",
       "                        <td id=\"T_f96ba6c0_66d4_11ed_8182_1cbfc0b08616row3_col3\" class=\"data row3 col3\" >$652</td>\n",
       "                        <td id=\"T_f96ba6c0_66d4_11ed_8182_1cbfc0b08616row3_col4\" class=\"data row3 col4\" >77.29</td>\n",
       "                        <td id=\"T_f96ba6c0_66d4_11ed_8182_1cbfc0b08616row3_col5\" class=\"data row3 col5\" >80.93</td>\n",
       "                        <td id=\"T_f96ba6c0_66d4_11ed_8182_1cbfc0b08616row3_col6\" class=\"data row3 col6\" >66.75%</td>\n",
       "                        <td id=\"T_f96ba6c0_66d4_11ed_8182_1cbfc0b08616row3_col7\" class=\"data row3 col7\" >80.86%</td>\n",
       "                        <td id=\"T_f96ba6c0_66d4_11ed_8182_1cbfc0b08616row3_col8\" class=\"data row3 col8\" >53.53%</td>\n",
       "            </tr>\n",
       "            <tr>\n",
       "                        <th id=\"T_f96ba6c0_66d4_11ed_8182_1cbfc0b08616level0_row4\" class=\"row_heading level0 row4\" >Johnson High School</th>\n",
       "                        <td id=\"T_f96ba6c0_66d4_11ed_8182_1cbfc0b08616row4_col0\" class=\"data row4 col0\" >District</td>\n",
       "                        <td id=\"T_f96ba6c0_66d4_11ed_8182_1cbfc0b08616row4_col1\" class=\"data row4 col1\" >4,761</td>\n",
       "                        <td id=\"T_f96ba6c0_66d4_11ed_8182_1cbfc0b08616row4_col2\" class=\"data row4 col2\" >$3,094,650</td>\n",
       "                        <td id=\"T_f96ba6c0_66d4_11ed_8182_1cbfc0b08616row4_col3\" class=\"data row4 col3\" >$650</td>\n",
       "                        <td id=\"T_f96ba6c0_66d4_11ed_8182_1cbfc0b08616row4_col4\" class=\"data row4 col4\" >77.07</td>\n",
       "                        <td id=\"T_f96ba6c0_66d4_11ed_8182_1cbfc0b08616row4_col5\" class=\"data row4 col5\" >80.97</td>\n",
       "                        <td id=\"T_f96ba6c0_66d4_11ed_8182_1cbfc0b08616row4_col6\" class=\"data row4 col6\" >66.06%</td>\n",
       "                        <td id=\"T_f96ba6c0_66d4_11ed_8182_1cbfc0b08616row4_col7\" class=\"data row4 col7\" >81.22%</td>\n",
       "                        <td id=\"T_f96ba6c0_66d4_11ed_8182_1cbfc0b08616row4_col8\" class=\"data row4 col8\" >53.54%</td>\n",
       "            </tr>\n",
       "    </tbody></table>"
      ],
      "text/plain": [
       "<pandas.io.formats.style.Styler at 0x28f3f8a7188>"
      ]
     },
     "execution_count": 77,
     "metadata": {},
     "output_type": "execute_result"
    }
   ],
   "source": [
    "bottom_perf.style.format({\n",
    "    \n",
    "    \"Total Students\": '{:,}',\n",
    "    \"Total School Budget\":  \"${:,}\",\n",
    "    \"Per Student Budget\": \"${:.0f}\",\n",
    "    \"Average Math Score\": '{:.2f}',\n",
    "    \"Average Reading Score\": '{:.2f}',\n",
    "    \"Percent Passing Math\": '{:.2%}',\n",
    "    \"Percent Passing Reading\": '{:.2%}',\n",
    "    \"Overall Passing Rate\": '{:.2%}'\n",
    "})"
   ]
  },
  {
   "cell_type": "code",
   "execution_count": 25,
   "id": "cf9ac720",
   "metadata": {},
   "outputs": [],
   "source": [
    "# Math Scores by Grade"
   ]
  },
  {
   "cell_type": "code",
   "execution_count": 26,
   "id": "afd8dc53",
   "metadata": {},
   "outputs": [],
   "source": [
    "math_ninth = stud_df.loc[stud_df['grade'] == \"9th\"].groupby('school_name')[\"math_score\"].mean()"
   ]
  },
  {
   "cell_type": "code",
   "execution_count": 27,
   "id": "602defcd",
   "metadata": {},
   "outputs": [],
   "source": [
    "math_tenth = stud_df.loc[stud_df['grade'] == \"10th\"].groupby('school_name')[\"math_score\"].mean()"
   ]
  },
  {
   "cell_type": "code",
   "execution_count": 28,
   "id": "ae625344",
   "metadata": {},
   "outputs": [],
   "source": [
    "math_eleventh = stud_df.loc[stud_df['grade'] == \"11th\"].groupby('school_name')[\"math_score\"].mean()"
   ]
  },
  {
   "cell_type": "code",
   "execution_count": 29,
   "id": "035584a0",
   "metadata": {},
   "outputs": [],
   "source": [
    "math_twelfth = stud_df.loc[stud_df['grade'] == \"12th\"].groupby('school_name')[\"math_score\"].mean()"
   ]
  },
  {
   "cell_type": "code",
   "execution_count": 30,
   "id": "7f80248f",
   "metadata": {},
   "outputs": [],
   "source": [
    "scores_math = pd.DataFrame({\n",
    "    \n",
    "    \"9th\": math_ninth,\n",
    "    \"10th\": math_tenth,\n",
    "    \"11th\": math_eleventh,\n",
    "    \"12th\": math_twelfth\n",
    "})"
   ]
  },
  {
   "cell_type": "code",
   "execution_count": 78,
   "id": "f70fa003",
   "metadata": {},
   "outputs": [],
   "source": [
    "scores_math.index.name = \"\""
   ]
  },
  {
   "cell_type": "code",
   "execution_count": 83,
   "id": "e4bb3f79",
   "metadata": {},
   "outputs": [
    {
     "data": {
      "text/html": [
       "<style  type=\"text/css\" >\n",
       "</style><table id=\"T_78e1f834_66d5_11ed_bf94_1cbfc0b08616\" ><thead>    <tr>        <th class=\"blank level0\" ></th>        <th class=\"col_heading level0 col0\" >9th</th>        <th class=\"col_heading level0 col1\" >10th</th>        <th class=\"col_heading level0 col2\" >11th</th>        <th class=\"col_heading level0 col3\" >12th</th>    </tr>    <tr>        <th class=\"index_name level0\" ></th>        <th class=\"blank\" ></th>        <th class=\"blank\" ></th>        <th class=\"blank\" ></th>        <th class=\"blank\" ></th>    </tr></thead><tbody>\n",
       "                <tr>\n",
       "                        <th id=\"T_78e1f834_66d5_11ed_bf94_1cbfc0b08616level0_row0\" class=\"row_heading level0 row0\" >Bailey High School</th>\n",
       "                        <td id=\"T_78e1f834_66d5_11ed_bf94_1cbfc0b08616row0_col0\" class=\"data row0 col0\" >77.08</td>\n",
       "                        <td id=\"T_78e1f834_66d5_11ed_bf94_1cbfc0b08616row0_col1\" class=\"data row0 col1\" >77.00</td>\n",
       "                        <td id=\"T_78e1f834_66d5_11ed_bf94_1cbfc0b08616row0_col2\" class=\"data row0 col2\" >77.52</td>\n",
       "                        <td id=\"T_78e1f834_66d5_11ed_bf94_1cbfc0b08616row0_col3\" class=\"data row0 col3\" >76.49</td>\n",
       "            </tr>\n",
       "            <tr>\n",
       "                        <th id=\"T_78e1f834_66d5_11ed_bf94_1cbfc0b08616level0_row1\" class=\"row_heading level0 row1\" >Cabrera High School</th>\n",
       "                        <td id=\"T_78e1f834_66d5_11ed_bf94_1cbfc0b08616row1_col0\" class=\"data row1 col0\" >83.09</td>\n",
       "                        <td id=\"T_78e1f834_66d5_11ed_bf94_1cbfc0b08616row1_col1\" class=\"data row1 col1\" >83.15</td>\n",
       "                        <td id=\"T_78e1f834_66d5_11ed_bf94_1cbfc0b08616row1_col2\" class=\"data row1 col2\" >82.77</td>\n",
       "                        <td id=\"T_78e1f834_66d5_11ed_bf94_1cbfc0b08616row1_col3\" class=\"data row1 col3\" >83.28</td>\n",
       "            </tr>\n",
       "            <tr>\n",
       "                        <th id=\"T_78e1f834_66d5_11ed_bf94_1cbfc0b08616level0_row2\" class=\"row_heading level0 row2\" >Figueroa High School</th>\n",
       "                        <td id=\"T_78e1f834_66d5_11ed_bf94_1cbfc0b08616row2_col0\" class=\"data row2 col0\" >76.40</td>\n",
       "                        <td id=\"T_78e1f834_66d5_11ed_bf94_1cbfc0b08616row2_col1\" class=\"data row2 col1\" >76.54</td>\n",
       "                        <td id=\"T_78e1f834_66d5_11ed_bf94_1cbfc0b08616row2_col2\" class=\"data row2 col2\" >76.88</td>\n",
       "                        <td id=\"T_78e1f834_66d5_11ed_bf94_1cbfc0b08616row2_col3\" class=\"data row2 col3\" >77.15</td>\n",
       "            </tr>\n",
       "            <tr>\n",
       "                        <th id=\"T_78e1f834_66d5_11ed_bf94_1cbfc0b08616level0_row3\" class=\"row_heading level0 row3\" >Ford High School</th>\n",
       "                        <td id=\"T_78e1f834_66d5_11ed_bf94_1cbfc0b08616row3_col0\" class=\"data row3 col0\" >77.36</td>\n",
       "                        <td id=\"T_78e1f834_66d5_11ed_bf94_1cbfc0b08616row3_col1\" class=\"data row3 col1\" >77.67</td>\n",
       "                        <td id=\"T_78e1f834_66d5_11ed_bf94_1cbfc0b08616row3_col2\" class=\"data row3 col2\" >76.92</td>\n",
       "                        <td id=\"T_78e1f834_66d5_11ed_bf94_1cbfc0b08616row3_col3\" class=\"data row3 col3\" >76.18</td>\n",
       "            </tr>\n",
       "            <tr>\n",
       "                        <th id=\"T_78e1f834_66d5_11ed_bf94_1cbfc0b08616level0_row4\" class=\"row_heading level0 row4\" >Griffin High School</th>\n",
       "                        <td id=\"T_78e1f834_66d5_11ed_bf94_1cbfc0b08616row4_col0\" class=\"data row4 col0\" >82.04</td>\n",
       "                        <td id=\"T_78e1f834_66d5_11ed_bf94_1cbfc0b08616row4_col1\" class=\"data row4 col1\" >84.23</td>\n",
       "                        <td id=\"T_78e1f834_66d5_11ed_bf94_1cbfc0b08616row4_col2\" class=\"data row4 col2\" >83.84</td>\n",
       "                        <td id=\"T_78e1f834_66d5_11ed_bf94_1cbfc0b08616row4_col3\" class=\"data row4 col3\" >83.36</td>\n",
       "            </tr>\n",
       "            <tr>\n",
       "                        <th id=\"T_78e1f834_66d5_11ed_bf94_1cbfc0b08616level0_row5\" class=\"row_heading level0 row5\" >Hernandez High School</th>\n",
       "                        <td id=\"T_78e1f834_66d5_11ed_bf94_1cbfc0b08616row5_col0\" class=\"data row5 col0\" >77.44</td>\n",
       "                        <td id=\"T_78e1f834_66d5_11ed_bf94_1cbfc0b08616row5_col1\" class=\"data row5 col1\" >77.34</td>\n",
       "                        <td id=\"T_78e1f834_66d5_11ed_bf94_1cbfc0b08616row5_col2\" class=\"data row5 col2\" >77.14</td>\n",
       "                        <td id=\"T_78e1f834_66d5_11ed_bf94_1cbfc0b08616row5_col3\" class=\"data row5 col3\" >77.19</td>\n",
       "            </tr>\n",
       "            <tr>\n",
       "                        <th id=\"T_78e1f834_66d5_11ed_bf94_1cbfc0b08616level0_row6\" class=\"row_heading level0 row6\" >Holden High School</th>\n",
       "                        <td id=\"T_78e1f834_66d5_11ed_bf94_1cbfc0b08616row6_col0\" class=\"data row6 col0\" >83.79</td>\n",
       "                        <td id=\"T_78e1f834_66d5_11ed_bf94_1cbfc0b08616row6_col1\" class=\"data row6 col1\" >83.43</td>\n",
       "                        <td id=\"T_78e1f834_66d5_11ed_bf94_1cbfc0b08616row6_col2\" class=\"data row6 col2\" >85.00</td>\n",
       "                        <td id=\"T_78e1f834_66d5_11ed_bf94_1cbfc0b08616row6_col3\" class=\"data row6 col3\" >82.86</td>\n",
       "            </tr>\n",
       "            <tr>\n",
       "                        <th id=\"T_78e1f834_66d5_11ed_bf94_1cbfc0b08616level0_row7\" class=\"row_heading level0 row7\" >Huang High School</th>\n",
       "                        <td id=\"T_78e1f834_66d5_11ed_bf94_1cbfc0b08616row7_col0\" class=\"data row7 col0\" >77.03</td>\n",
       "                        <td id=\"T_78e1f834_66d5_11ed_bf94_1cbfc0b08616row7_col1\" class=\"data row7 col1\" >75.91</td>\n",
       "                        <td id=\"T_78e1f834_66d5_11ed_bf94_1cbfc0b08616row7_col2\" class=\"data row7 col2\" >76.45</td>\n",
       "                        <td id=\"T_78e1f834_66d5_11ed_bf94_1cbfc0b08616row7_col3\" class=\"data row7 col3\" >77.23</td>\n",
       "            </tr>\n",
       "            <tr>\n",
       "                        <th id=\"T_78e1f834_66d5_11ed_bf94_1cbfc0b08616level0_row8\" class=\"row_heading level0 row8\" >Johnson High School</th>\n",
       "                        <td id=\"T_78e1f834_66d5_11ed_bf94_1cbfc0b08616row8_col0\" class=\"data row8 col0\" >77.19</td>\n",
       "                        <td id=\"T_78e1f834_66d5_11ed_bf94_1cbfc0b08616row8_col1\" class=\"data row8 col1\" >76.69</td>\n",
       "                        <td id=\"T_78e1f834_66d5_11ed_bf94_1cbfc0b08616row8_col2\" class=\"data row8 col2\" >77.49</td>\n",
       "                        <td id=\"T_78e1f834_66d5_11ed_bf94_1cbfc0b08616row8_col3\" class=\"data row8 col3\" >76.86</td>\n",
       "            </tr>\n",
       "            <tr>\n",
       "                        <th id=\"T_78e1f834_66d5_11ed_bf94_1cbfc0b08616level0_row9\" class=\"row_heading level0 row9\" >Pena High School</th>\n",
       "                        <td id=\"T_78e1f834_66d5_11ed_bf94_1cbfc0b08616row9_col0\" class=\"data row9 col0\" >83.63</td>\n",
       "                        <td id=\"T_78e1f834_66d5_11ed_bf94_1cbfc0b08616row9_col1\" class=\"data row9 col1\" >83.37</td>\n",
       "                        <td id=\"T_78e1f834_66d5_11ed_bf94_1cbfc0b08616row9_col2\" class=\"data row9 col2\" >84.33</td>\n",
       "                        <td id=\"T_78e1f834_66d5_11ed_bf94_1cbfc0b08616row9_col3\" class=\"data row9 col3\" >84.12</td>\n",
       "            </tr>\n",
       "            <tr>\n",
       "                        <th id=\"T_78e1f834_66d5_11ed_bf94_1cbfc0b08616level0_row10\" class=\"row_heading level0 row10\" >Rodriguez High School</th>\n",
       "                        <td id=\"T_78e1f834_66d5_11ed_bf94_1cbfc0b08616row10_col0\" class=\"data row10 col0\" >76.86</td>\n",
       "                        <td id=\"T_78e1f834_66d5_11ed_bf94_1cbfc0b08616row10_col1\" class=\"data row10 col1\" >76.61</td>\n",
       "                        <td id=\"T_78e1f834_66d5_11ed_bf94_1cbfc0b08616row10_col2\" class=\"data row10 col2\" >76.40</td>\n",
       "                        <td id=\"T_78e1f834_66d5_11ed_bf94_1cbfc0b08616row10_col3\" class=\"data row10 col3\" >77.69</td>\n",
       "            </tr>\n",
       "            <tr>\n",
       "                        <th id=\"T_78e1f834_66d5_11ed_bf94_1cbfc0b08616level0_row11\" class=\"row_heading level0 row11\" >Shelton High School</th>\n",
       "                        <td id=\"T_78e1f834_66d5_11ed_bf94_1cbfc0b08616row11_col0\" class=\"data row11 col0\" >83.42</td>\n",
       "                        <td id=\"T_78e1f834_66d5_11ed_bf94_1cbfc0b08616row11_col1\" class=\"data row11 col1\" >82.92</td>\n",
       "                        <td id=\"T_78e1f834_66d5_11ed_bf94_1cbfc0b08616row11_col2\" class=\"data row11 col2\" >83.38</td>\n",
       "                        <td id=\"T_78e1f834_66d5_11ed_bf94_1cbfc0b08616row11_col3\" class=\"data row11 col3\" >83.78</td>\n",
       "            </tr>\n",
       "            <tr>\n",
       "                        <th id=\"T_78e1f834_66d5_11ed_bf94_1cbfc0b08616level0_row12\" class=\"row_heading level0 row12\" >Thomas High School</th>\n",
       "                        <td id=\"T_78e1f834_66d5_11ed_bf94_1cbfc0b08616row12_col0\" class=\"data row12 col0\" >83.59</td>\n",
       "                        <td id=\"T_78e1f834_66d5_11ed_bf94_1cbfc0b08616row12_col1\" class=\"data row12 col1\" >83.09</td>\n",
       "                        <td id=\"T_78e1f834_66d5_11ed_bf94_1cbfc0b08616row12_col2\" class=\"data row12 col2\" >83.50</td>\n",
       "                        <td id=\"T_78e1f834_66d5_11ed_bf94_1cbfc0b08616row12_col3\" class=\"data row12 col3\" >83.50</td>\n",
       "            </tr>\n",
       "            <tr>\n",
       "                        <th id=\"T_78e1f834_66d5_11ed_bf94_1cbfc0b08616level0_row13\" class=\"row_heading level0 row13\" >Wilson High School</th>\n",
       "                        <td id=\"T_78e1f834_66d5_11ed_bf94_1cbfc0b08616row13_col0\" class=\"data row13 col0\" >83.09</td>\n",
       "                        <td id=\"T_78e1f834_66d5_11ed_bf94_1cbfc0b08616row13_col1\" class=\"data row13 col1\" >83.72</td>\n",
       "                        <td id=\"T_78e1f834_66d5_11ed_bf94_1cbfc0b08616row13_col2\" class=\"data row13 col2\" >83.20</td>\n",
       "                        <td id=\"T_78e1f834_66d5_11ed_bf94_1cbfc0b08616row13_col3\" class=\"data row13 col3\" >83.04</td>\n",
       "            </tr>\n",
       "            <tr>\n",
       "                        <th id=\"T_78e1f834_66d5_11ed_bf94_1cbfc0b08616level0_row14\" class=\"row_heading level0 row14\" >Wright High School</th>\n",
       "                        <td id=\"T_78e1f834_66d5_11ed_bf94_1cbfc0b08616row14_col0\" class=\"data row14 col0\" >83.26</td>\n",
       "                        <td id=\"T_78e1f834_66d5_11ed_bf94_1cbfc0b08616row14_col1\" class=\"data row14 col1\" >84.01</td>\n",
       "                        <td id=\"T_78e1f834_66d5_11ed_bf94_1cbfc0b08616row14_col2\" class=\"data row14 col2\" >83.84</td>\n",
       "                        <td id=\"T_78e1f834_66d5_11ed_bf94_1cbfc0b08616row14_col3\" class=\"data row14 col3\" >83.64</td>\n",
       "            </tr>\n",
       "    </tbody></table>"
      ],
      "text/plain": [
       "<pandas.io.formats.style.Styler at 0x28f3f898488>"
      ]
     },
     "execution_count": 83,
     "metadata": {},
     "output_type": "execute_result"
    }
   ],
   "source": [
    "scores_math.style.format({\n",
    "    \n",
    "    \"9th\": \"{:.2f}\",\n",
    "    \"10th\": \"{:.2f}\",\n",
    "    \"11th\": \"{:.2f}\",\n",
    "    \"12th\": \"{:.2f}\"\n",
    "})"
   ]
  },
  {
   "cell_type": "code",
   "execution_count": 32,
   "id": "e9edff98",
   "metadata": {},
   "outputs": [],
   "source": [
    "# Reading Scores by Grade"
   ]
  },
  {
   "cell_type": "code",
   "execution_count": 33,
   "id": "c6bc837a",
   "metadata": {},
   "outputs": [],
   "source": [
    "read_ninth = stud_df.loc[stud_df['grade'] == \"9th\"].groupby('school_name')[\"reading_score\"].mean()"
   ]
  },
  {
   "cell_type": "code",
   "execution_count": 34,
   "id": "a423ea95",
   "metadata": {},
   "outputs": [],
   "source": [
    "read_tenth = stud_df.loc[stud_df['grade'] == \"10th\"].groupby('school_name')[\"reading_score\"].mean()"
   ]
  },
  {
   "cell_type": "code",
   "execution_count": 35,
   "id": "71c0a481",
   "metadata": {},
   "outputs": [],
   "source": [
    "read_eleventh = stud_df.loc[stud_df['grade'] == \"11th\"].groupby('school_name')[\"reading_score\"].mean()"
   ]
  },
  {
   "cell_type": "code",
   "execution_count": 36,
   "id": "0055e956",
   "metadata": {},
   "outputs": [],
   "source": [
    "read_twelfth = stud_df.loc[stud_df['grade'] == \"12th\"].groupby('school_name')[\"reading_score\"].mean()"
   ]
  },
  {
   "cell_type": "code",
   "execution_count": 80,
   "id": "1f80ec19",
   "metadata": {},
   "outputs": [],
   "source": [
    "scores_read = pd.DataFrame({\n",
    "    \n",
    "    \"9th\": read_ninth,\n",
    "    \"10th\": read_tenth,\n",
    "    \"11th\": read_eleventh,\n",
    "    \"12th\": read_twelfth\n",
    "})"
   ]
  },
  {
   "cell_type": "code",
   "execution_count": 81,
   "id": "d5e64383",
   "metadata": {},
   "outputs": [],
   "source": [
    "scores_read.index.name = \"\""
   ]
  },
  {
   "cell_type": "code",
   "execution_count": 84,
   "id": "f510e508",
   "metadata": {},
   "outputs": [
    {
     "data": {
      "text/html": [
       "<style  type=\"text/css\" >\n",
       "</style><table id=\"T_86f492a8_66d5_11ed_84a4_1cbfc0b08616\" ><thead>    <tr>        <th class=\"blank level0\" ></th>        <th class=\"col_heading level0 col0\" >9th</th>        <th class=\"col_heading level0 col1\" >10th</th>        <th class=\"col_heading level0 col2\" >11th</th>        <th class=\"col_heading level0 col3\" >12th</th>    </tr>    <tr>        <th class=\"index_name level0\" ></th>        <th class=\"blank\" ></th>        <th class=\"blank\" ></th>        <th class=\"blank\" ></th>        <th class=\"blank\" ></th>    </tr></thead><tbody>\n",
       "                <tr>\n",
       "                        <th id=\"T_86f492a8_66d5_11ed_84a4_1cbfc0b08616level0_row0\" class=\"row_heading level0 row0\" >Bailey High School</th>\n",
       "                        <td id=\"T_86f492a8_66d5_11ed_84a4_1cbfc0b08616row0_col0\" class=\"data row0 col0\" >81.30</td>\n",
       "                        <td id=\"T_86f492a8_66d5_11ed_84a4_1cbfc0b08616row0_col1\" class=\"data row0 col1\" >80.91</td>\n",
       "                        <td id=\"T_86f492a8_66d5_11ed_84a4_1cbfc0b08616row0_col2\" class=\"data row0 col2\" >80.95</td>\n",
       "                        <td id=\"T_86f492a8_66d5_11ed_84a4_1cbfc0b08616row0_col3\" class=\"data row0 col3\" >80.91</td>\n",
       "            </tr>\n",
       "            <tr>\n",
       "                        <th id=\"T_86f492a8_66d5_11ed_84a4_1cbfc0b08616level0_row1\" class=\"row_heading level0 row1\" >Cabrera High School</th>\n",
       "                        <td id=\"T_86f492a8_66d5_11ed_84a4_1cbfc0b08616row1_col0\" class=\"data row1 col0\" >83.68</td>\n",
       "                        <td id=\"T_86f492a8_66d5_11ed_84a4_1cbfc0b08616row1_col1\" class=\"data row1 col1\" >84.25</td>\n",
       "                        <td id=\"T_86f492a8_66d5_11ed_84a4_1cbfc0b08616row1_col2\" class=\"data row1 col2\" >83.79</td>\n",
       "                        <td id=\"T_86f492a8_66d5_11ed_84a4_1cbfc0b08616row1_col3\" class=\"data row1 col3\" >84.29</td>\n",
       "            </tr>\n",
       "            <tr>\n",
       "                        <th id=\"T_86f492a8_66d5_11ed_84a4_1cbfc0b08616level0_row2\" class=\"row_heading level0 row2\" >Figueroa High School</th>\n",
       "                        <td id=\"T_86f492a8_66d5_11ed_84a4_1cbfc0b08616row2_col0\" class=\"data row2 col0\" >81.20</td>\n",
       "                        <td id=\"T_86f492a8_66d5_11ed_84a4_1cbfc0b08616row2_col1\" class=\"data row2 col1\" >81.41</td>\n",
       "                        <td id=\"T_86f492a8_66d5_11ed_84a4_1cbfc0b08616row2_col2\" class=\"data row2 col2\" >80.64</td>\n",
       "                        <td id=\"T_86f492a8_66d5_11ed_84a4_1cbfc0b08616row2_col3\" class=\"data row2 col3\" >81.38</td>\n",
       "            </tr>\n",
       "            <tr>\n",
       "                        <th id=\"T_86f492a8_66d5_11ed_84a4_1cbfc0b08616level0_row3\" class=\"row_heading level0 row3\" >Ford High School</th>\n",
       "                        <td id=\"T_86f492a8_66d5_11ed_84a4_1cbfc0b08616row3_col0\" class=\"data row3 col0\" >80.63</td>\n",
       "                        <td id=\"T_86f492a8_66d5_11ed_84a4_1cbfc0b08616row3_col1\" class=\"data row3 col1\" >81.26</td>\n",
       "                        <td id=\"T_86f492a8_66d5_11ed_84a4_1cbfc0b08616row3_col2\" class=\"data row3 col2\" >80.40</td>\n",
       "                        <td id=\"T_86f492a8_66d5_11ed_84a4_1cbfc0b08616row3_col3\" class=\"data row3 col3\" >80.66</td>\n",
       "            </tr>\n",
       "            <tr>\n",
       "                        <th id=\"T_86f492a8_66d5_11ed_84a4_1cbfc0b08616level0_row4\" class=\"row_heading level0 row4\" >Griffin High School</th>\n",
       "                        <td id=\"T_86f492a8_66d5_11ed_84a4_1cbfc0b08616row4_col0\" class=\"data row4 col0\" >83.37</td>\n",
       "                        <td id=\"T_86f492a8_66d5_11ed_84a4_1cbfc0b08616row4_col1\" class=\"data row4 col1\" >83.71</td>\n",
       "                        <td id=\"T_86f492a8_66d5_11ed_84a4_1cbfc0b08616row4_col2\" class=\"data row4 col2\" >84.29</td>\n",
       "                        <td id=\"T_86f492a8_66d5_11ed_84a4_1cbfc0b08616row4_col3\" class=\"data row4 col3\" >84.01</td>\n",
       "            </tr>\n",
       "            <tr>\n",
       "                        <th id=\"T_86f492a8_66d5_11ed_84a4_1cbfc0b08616level0_row5\" class=\"row_heading level0 row5\" >Hernandez High School</th>\n",
       "                        <td id=\"T_86f492a8_66d5_11ed_84a4_1cbfc0b08616row5_col0\" class=\"data row5 col0\" >80.87</td>\n",
       "                        <td id=\"T_86f492a8_66d5_11ed_84a4_1cbfc0b08616row5_col1\" class=\"data row5 col1\" >80.66</td>\n",
       "                        <td id=\"T_86f492a8_66d5_11ed_84a4_1cbfc0b08616row5_col2\" class=\"data row5 col2\" >81.40</td>\n",
       "                        <td id=\"T_86f492a8_66d5_11ed_84a4_1cbfc0b08616row5_col3\" class=\"data row5 col3\" >80.86</td>\n",
       "            </tr>\n",
       "            <tr>\n",
       "                        <th id=\"T_86f492a8_66d5_11ed_84a4_1cbfc0b08616level0_row6\" class=\"row_heading level0 row6\" >Holden High School</th>\n",
       "                        <td id=\"T_86f492a8_66d5_11ed_84a4_1cbfc0b08616row6_col0\" class=\"data row6 col0\" >83.68</td>\n",
       "                        <td id=\"T_86f492a8_66d5_11ed_84a4_1cbfc0b08616row6_col1\" class=\"data row6 col1\" >83.32</td>\n",
       "                        <td id=\"T_86f492a8_66d5_11ed_84a4_1cbfc0b08616row6_col2\" class=\"data row6 col2\" >83.82</td>\n",
       "                        <td id=\"T_86f492a8_66d5_11ed_84a4_1cbfc0b08616row6_col3\" class=\"data row6 col3\" >84.70</td>\n",
       "            </tr>\n",
       "            <tr>\n",
       "                        <th id=\"T_86f492a8_66d5_11ed_84a4_1cbfc0b08616level0_row7\" class=\"row_heading level0 row7\" >Huang High School</th>\n",
       "                        <td id=\"T_86f492a8_66d5_11ed_84a4_1cbfc0b08616row7_col0\" class=\"data row7 col0\" >81.29</td>\n",
       "                        <td id=\"T_86f492a8_66d5_11ed_84a4_1cbfc0b08616row7_col1\" class=\"data row7 col1\" >81.51</td>\n",
       "                        <td id=\"T_86f492a8_66d5_11ed_84a4_1cbfc0b08616row7_col2\" class=\"data row7 col2\" >81.42</td>\n",
       "                        <td id=\"T_86f492a8_66d5_11ed_84a4_1cbfc0b08616row7_col3\" class=\"data row7 col3\" >80.31</td>\n",
       "            </tr>\n",
       "            <tr>\n",
       "                        <th id=\"T_86f492a8_66d5_11ed_84a4_1cbfc0b08616level0_row8\" class=\"row_heading level0 row8\" >Johnson High School</th>\n",
       "                        <td id=\"T_86f492a8_66d5_11ed_84a4_1cbfc0b08616row8_col0\" class=\"data row8 col0\" >81.26</td>\n",
       "                        <td id=\"T_86f492a8_66d5_11ed_84a4_1cbfc0b08616row8_col1\" class=\"data row8 col1\" >80.77</td>\n",
       "                        <td id=\"T_86f492a8_66d5_11ed_84a4_1cbfc0b08616row8_col2\" class=\"data row8 col2\" >80.62</td>\n",
       "                        <td id=\"T_86f492a8_66d5_11ed_84a4_1cbfc0b08616row8_col3\" class=\"data row8 col3\" >81.23</td>\n",
       "            </tr>\n",
       "            <tr>\n",
       "                        <th id=\"T_86f492a8_66d5_11ed_84a4_1cbfc0b08616level0_row9\" class=\"row_heading level0 row9\" >Pena High School</th>\n",
       "                        <td id=\"T_86f492a8_66d5_11ed_84a4_1cbfc0b08616row9_col0\" class=\"data row9 col0\" >83.81</td>\n",
       "                        <td id=\"T_86f492a8_66d5_11ed_84a4_1cbfc0b08616row9_col1\" class=\"data row9 col1\" >83.61</td>\n",
       "                        <td id=\"T_86f492a8_66d5_11ed_84a4_1cbfc0b08616row9_col2\" class=\"data row9 col2\" >84.34</td>\n",
       "                        <td id=\"T_86f492a8_66d5_11ed_84a4_1cbfc0b08616row9_col3\" class=\"data row9 col3\" >84.59</td>\n",
       "            </tr>\n",
       "            <tr>\n",
       "                        <th id=\"T_86f492a8_66d5_11ed_84a4_1cbfc0b08616level0_row10\" class=\"row_heading level0 row10\" >Rodriguez High School</th>\n",
       "                        <td id=\"T_86f492a8_66d5_11ed_84a4_1cbfc0b08616row10_col0\" class=\"data row10 col0\" >80.99</td>\n",
       "                        <td id=\"T_86f492a8_66d5_11ed_84a4_1cbfc0b08616row10_col1\" class=\"data row10 col1\" >80.63</td>\n",
       "                        <td id=\"T_86f492a8_66d5_11ed_84a4_1cbfc0b08616row10_col2\" class=\"data row10 col2\" >80.86</td>\n",
       "                        <td id=\"T_86f492a8_66d5_11ed_84a4_1cbfc0b08616row10_col3\" class=\"data row10 col3\" >80.38</td>\n",
       "            </tr>\n",
       "            <tr>\n",
       "                        <th id=\"T_86f492a8_66d5_11ed_84a4_1cbfc0b08616level0_row11\" class=\"row_heading level0 row11\" >Shelton High School</th>\n",
       "                        <td id=\"T_86f492a8_66d5_11ed_84a4_1cbfc0b08616row11_col0\" class=\"data row11 col0\" >84.12</td>\n",
       "                        <td id=\"T_86f492a8_66d5_11ed_84a4_1cbfc0b08616row11_col1\" class=\"data row11 col1\" >83.44</td>\n",
       "                        <td id=\"T_86f492a8_66d5_11ed_84a4_1cbfc0b08616row11_col2\" class=\"data row11 col2\" >84.37</td>\n",
       "                        <td id=\"T_86f492a8_66d5_11ed_84a4_1cbfc0b08616row11_col3\" class=\"data row11 col3\" >82.78</td>\n",
       "            </tr>\n",
       "            <tr>\n",
       "                        <th id=\"T_86f492a8_66d5_11ed_84a4_1cbfc0b08616level0_row12\" class=\"row_heading level0 row12\" >Thomas High School</th>\n",
       "                        <td id=\"T_86f492a8_66d5_11ed_84a4_1cbfc0b08616row12_col0\" class=\"data row12 col0\" >83.73</td>\n",
       "                        <td id=\"T_86f492a8_66d5_11ed_84a4_1cbfc0b08616row12_col1\" class=\"data row12 col1\" >84.25</td>\n",
       "                        <td id=\"T_86f492a8_66d5_11ed_84a4_1cbfc0b08616row12_col2\" class=\"data row12 col2\" >83.59</td>\n",
       "                        <td id=\"T_86f492a8_66d5_11ed_84a4_1cbfc0b08616row12_col3\" class=\"data row12 col3\" >83.83</td>\n",
       "            </tr>\n",
       "            <tr>\n",
       "                        <th id=\"T_86f492a8_66d5_11ed_84a4_1cbfc0b08616level0_row13\" class=\"row_heading level0 row13\" >Wilson High School</th>\n",
       "                        <td id=\"T_86f492a8_66d5_11ed_84a4_1cbfc0b08616row13_col0\" class=\"data row13 col0\" >83.94</td>\n",
       "                        <td id=\"T_86f492a8_66d5_11ed_84a4_1cbfc0b08616row13_col1\" class=\"data row13 col1\" >84.02</td>\n",
       "                        <td id=\"T_86f492a8_66d5_11ed_84a4_1cbfc0b08616row13_col2\" class=\"data row13 col2\" >83.76</td>\n",
       "                        <td id=\"T_86f492a8_66d5_11ed_84a4_1cbfc0b08616row13_col3\" class=\"data row13 col3\" >84.32</td>\n",
       "            </tr>\n",
       "            <tr>\n",
       "                        <th id=\"T_86f492a8_66d5_11ed_84a4_1cbfc0b08616level0_row14\" class=\"row_heading level0 row14\" >Wright High School</th>\n",
       "                        <td id=\"T_86f492a8_66d5_11ed_84a4_1cbfc0b08616row14_col0\" class=\"data row14 col0\" >83.83</td>\n",
       "                        <td id=\"T_86f492a8_66d5_11ed_84a4_1cbfc0b08616row14_col1\" class=\"data row14 col1\" >83.81</td>\n",
       "                        <td id=\"T_86f492a8_66d5_11ed_84a4_1cbfc0b08616row14_col2\" class=\"data row14 col2\" >84.16</td>\n",
       "                        <td id=\"T_86f492a8_66d5_11ed_84a4_1cbfc0b08616row14_col3\" class=\"data row14 col3\" >84.07</td>\n",
       "            </tr>\n",
       "    </tbody></table>"
      ],
      "text/plain": [
       "<pandas.io.formats.style.Styler at 0x28f3f8c8c48>"
      ]
     },
     "execution_count": 84,
     "metadata": {},
     "output_type": "execute_result"
    }
   ],
   "source": [
    "scores_read.style.format({\n",
    "    \n",
    "    \"9th\": \"{:.2f}\",\n",
    "    \"10th\": \"{:.2f}\",\n",
    "    \"11th\": \"{:.2f}\",\n",
    "    \"12th\": \"{:.2f}\"\n",
    "})"
   ]
  },
  {
   "cell_type": "code",
   "execution_count": 39,
   "id": "fc0d5fb6",
   "metadata": {},
   "outputs": [],
   "source": [
    "# Scores by School Spending"
   ]
  },
  {
   "cell_type": "code",
   "execution_count": 40,
   "id": "4da7659e",
   "metadata": {},
   "outputs": [],
   "source": [
    "bins = [0, 584.99, 630.99, 644.99, 680.99]\n",
    "spend_name = ['<$585', '$585 - 630', '$630 - 645', '$645 - 680']"
   ]
  },
  {
   "cell_type": "code",
   "execution_count": 41,
   "id": "d0835054",
   "metadata": {},
   "outputs": [],
   "source": [
    "sch_complete_df['spending_range'] = pd.cut(sch_complete_df['budget'] / sch_complete_df['size'], bins, labels = spend_name)"
   ]
  },
  {
   "cell_type": "code",
   "execution_count": 42,
   "id": "b3d42674",
   "metadata": {},
   "outputs": [],
   "source": [
    "spend_group = sch_complete_df.groupby('spending_range')"
   ]
  },
  {
   "cell_type": "code",
   "execution_count": 43,
   "id": "fe8787a2",
   "metadata": {},
   "outputs": [],
   "source": [
    "av_math = spend_group['math_score'].mean()"
   ]
  },
  {
   "cell_type": "code",
   "execution_count": 44,
   "id": "0b021c45",
   "metadata": {},
   "outputs": [],
   "source": [
    "av_read = spend_group['reading_score'].mean()"
   ]
  },
  {
   "cell_type": "code",
   "execution_count": 45,
   "id": "582438bc",
   "metadata": {},
   "outputs": [],
   "source": [
    "per_math_pass = sch_complete_df[sch_complete_df['math_score']>= 70].groupby('spending_range')['student_name'].count() / spend_group['student_name'].count()"
   ]
  },
  {
   "cell_type": "code",
   "execution_count": 46,
   "id": "572739ac",
   "metadata": {},
   "outputs": [],
   "source": [
    "per_read_pass = sch_complete_df[sch_complete_df['reading_score'] >= 70].groupby('spending_range')['student_name'].count() / spend_group['student_name'].count()"
   ]
  },
  {
   "cell_type": "code",
   "execution_count": 47,
   "id": "44864807",
   "metadata": {},
   "outputs": [],
   "source": [
    "overall_pass = sch_complete_df[(sch_complete_df['math_score'] >= 70) & (sch_complete_df['reading_score'] >= 70)].groupby('spending_range')['student_name'].count() / spend_group['student_name'].count() "
   ]
  },
  {
   "cell_type": "code",
   "execution_count": 48,
   "id": "cbd6d2c1",
   "metadata": {},
   "outputs": [],
   "source": [
    "spend_summary = pd.DataFrame({\n",
    "    \"Average Math Score\": av_math,\n",
    "    \"Average Reading Score\": av_read,\n",
    "    \"Percent Passing Math\": per_math_pass,\n",
    "    \"Percent Passing Reading\": per_read_pass,\n",
    "    \"Percent Overall Passing\": overall_pass\n",
    "})"
   ]
  },
  {
   "cell_type": "code",
   "execution_count": 49,
   "id": "b6cbb242",
   "metadata": {},
   "outputs": [],
   "source": [
    "spend_summary.index.name = \"Spending Ranges (Per Student)\""
   ]
  },
  {
   "cell_type": "code",
   "execution_count": 51,
   "id": "43bb59a5",
   "metadata": {},
   "outputs": [
    {
     "data": {
      "text/html": [
       "<style  type=\"text/css\" >\n",
       "</style><table id=\"T_7f505a10_66d4_11ed_ac17_1cbfc0b08616\" ><thead>    <tr>        <th class=\"blank level0\" ></th>        <th class=\"col_heading level0 col0\" >Average Math Score</th>        <th class=\"col_heading level0 col1\" >Average Reading Score</th>        <th class=\"col_heading level0 col2\" >Percent Passing Math</th>        <th class=\"col_heading level0 col3\" >Percent Passing Reading</th>        <th class=\"col_heading level0 col4\" >Percent Overall Passing</th>    </tr>    <tr>        <th class=\"index_name level0\" >Spending Ranges (Per Student)</th>        <th class=\"blank\" ></th>        <th class=\"blank\" ></th>        <th class=\"blank\" ></th>        <th class=\"blank\" ></th>        <th class=\"blank\" ></th>    </tr></thead><tbody>\n",
       "                <tr>\n",
       "                        <th id=\"T_7f505a10_66d4_11ed_ac17_1cbfc0b08616level0_row0\" class=\"row_heading level0 row0\" ><$585</th>\n",
       "                        <td id=\"T_7f505a10_66d4_11ed_ac17_1cbfc0b08616row0_col0\" class=\"data row0 col0\" >83.36</td>\n",
       "                        <td id=\"T_7f505a10_66d4_11ed_ac17_1cbfc0b08616row0_col1\" class=\"data row0 col1\" >83.96</td>\n",
       "                        <td id=\"T_7f505a10_66d4_11ed_ac17_1cbfc0b08616row0_col2\" class=\"data row0 col2\" >93.70%</td>\n",
       "                        <td id=\"T_7f505a10_66d4_11ed_ac17_1cbfc0b08616row0_col3\" class=\"data row0 col3\" >96.69%</td>\n",
       "                        <td id=\"T_7f505a10_66d4_11ed_ac17_1cbfc0b08616row0_col4\" class=\"data row0 col4\" >90.64%</td>\n",
       "            </tr>\n",
       "            <tr>\n",
       "                        <th id=\"T_7f505a10_66d4_11ed_ac17_1cbfc0b08616level0_row1\" class=\"row_heading level0 row1\" >$585 - 630</th>\n",
       "                        <td id=\"T_7f505a10_66d4_11ed_ac17_1cbfc0b08616row1_col0\" class=\"data row1 col0\" >79.98</td>\n",
       "                        <td id=\"T_7f505a10_66d4_11ed_ac17_1cbfc0b08616row1_col1\" class=\"data row1 col1\" >82.31</td>\n",
       "                        <td id=\"T_7f505a10_66d4_11ed_ac17_1cbfc0b08616row1_col2\" class=\"data row1 col2\" >79.11%</td>\n",
       "                        <td id=\"T_7f505a10_66d4_11ed_ac17_1cbfc0b08616row1_col3\" class=\"data row1 col3\" >88.51%</td>\n",
       "                        <td id=\"T_7f505a10_66d4_11ed_ac17_1cbfc0b08616row1_col4\" class=\"data row1 col4\" >70.94%</td>\n",
       "            </tr>\n",
       "            <tr>\n",
       "                        <th id=\"T_7f505a10_66d4_11ed_ac17_1cbfc0b08616level0_row2\" class=\"row_heading level0 row2\" >$630 - 645</th>\n",
       "                        <td id=\"T_7f505a10_66d4_11ed_ac17_1cbfc0b08616row2_col0\" class=\"data row2 col0\" >77.82</td>\n",
       "                        <td id=\"T_7f505a10_66d4_11ed_ac17_1cbfc0b08616row2_col1\" class=\"data row2 col1\" >81.30</td>\n",
       "                        <td id=\"T_7f505a10_66d4_11ed_ac17_1cbfc0b08616row2_col2\" class=\"data row2 col2\" >70.62%</td>\n",
       "                        <td id=\"T_7f505a10_66d4_11ed_ac17_1cbfc0b08616row2_col3\" class=\"data row2 col3\" >82.60%</td>\n",
       "                        <td id=\"T_7f505a10_66d4_11ed_ac17_1cbfc0b08616row2_col4\" class=\"data row2 col4\" >58.84%</td>\n",
       "            </tr>\n",
       "            <tr>\n",
       "                        <th id=\"T_7f505a10_66d4_11ed_ac17_1cbfc0b08616level0_row3\" class=\"row_heading level0 row3\" >$645 - 680</th>\n",
       "                        <td id=\"T_7f505a10_66d4_11ed_ac17_1cbfc0b08616row3_col0\" class=\"data row3 col0\" >77.05</td>\n",
       "                        <td id=\"T_7f505a10_66d4_11ed_ac17_1cbfc0b08616row3_col1\" class=\"data row3 col1\" >81.01</td>\n",
       "                        <td id=\"T_7f505a10_66d4_11ed_ac17_1cbfc0b08616row3_col2\" class=\"data row3 col2\" >66.23%</td>\n",
       "                        <td id=\"T_7f505a10_66d4_11ed_ac17_1cbfc0b08616row3_col3\" class=\"data row3 col3\" >81.11%</td>\n",
       "                        <td id=\"T_7f505a10_66d4_11ed_ac17_1cbfc0b08616row3_col4\" class=\"data row3 col4\" >53.53%</td>\n",
       "            </tr>\n",
       "    </tbody></table>"
      ],
      "text/plain": [
       "<pandas.io.formats.style.Styler at 0x28f3f87d848>"
      ]
     },
     "execution_count": 51,
     "metadata": {},
     "output_type": "execute_result"
    }
   ],
   "source": [
    "spend_summary.style.format({\n",
    "    \"Average Math Score\": '{:.2f}',\n",
    "    \"Average Reading Score\": '{:.2f}',\n",
    "    \"Percent Passing Math\": '{:.2%}',\n",
    "    \"Percent Passing Reading\": '{:.2%}',\n",
    "    \"Percent Overall Passing\": '{:.2%}'\n",
    "})"
   ]
  },
  {
   "cell_type": "code",
   "execution_count": 52,
   "id": "9d8ec77f",
   "metadata": {},
   "outputs": [],
   "source": [
    "# Scores by School Size"
   ]
  },
  {
   "cell_type": "code",
   "execution_count": 53,
   "id": "019679b6",
   "metadata": {},
   "outputs": [],
   "source": [
    "bins = [0, 999, 1999, 99999]"
   ]
  },
  {
   "cell_type": "code",
   "execution_count": 54,
   "id": "397fb260",
   "metadata": {},
   "outputs": [],
   "source": [
    "size_name =[\"Small (<1000)\", \"Medium (1000 - 2000)\", \"Large(>2000)\"]"
   ]
  },
  {
   "cell_type": "code",
   "execution_count": 55,
   "id": "fc1757eb",
   "metadata": {},
   "outputs": [],
   "source": [
    "sch_complete_df[\"size_range\"] = pd.cut(sch_complete_df['size'], bins, labels = size_name)"
   ]
  },
  {
   "cell_type": "code",
   "execution_count": 56,
   "id": "55241980",
   "metadata": {},
   "outputs": [],
   "source": [
    "size_group = sch_complete_df.groupby(\"size_range\")"
   ]
  },
  {
   "cell_type": "code",
   "execution_count": 57,
   "id": "66bbd183",
   "metadata": {},
   "outputs": [],
   "source": [
    "av_math = size_group['math_score'].mean()"
   ]
  },
  {
   "cell_type": "code",
   "execution_count": 58,
   "id": "a23c499e",
   "metadata": {},
   "outputs": [],
   "source": [
    "av_read = size_group['reading_score'].mean()"
   ]
  },
  {
   "cell_type": "code",
   "execution_count": 59,
   "id": "e86f8695",
   "metadata": {},
   "outputs": [],
   "source": [
    "perc_pass_math = sch_complete_df[sch_complete_df['math_score'] >= 70].groupby('size_range')['student_name'].count() / size_group['student_name'].count()"
   ]
  },
  {
   "cell_type": "code",
   "execution_count": 60,
   "id": "6dab212f",
   "metadata": {},
   "outputs": [],
   "source": [
    "perc_pass_read = sch_complete_df[sch_complete_df['reading_score'] >= 70].groupby('size_range')['student_name'].count() / size_group['student_name'].count()"
   ]
  },
  {
   "cell_type": "code",
   "execution_count": 61,
   "id": "8b542e9f",
   "metadata": {},
   "outputs": [],
   "source": [
    "overall_pass = sch_complete_df[(sch_complete_df['math_score'] >= 70) & (sch_complete_df['reading_score'] >= 70)].groupby('size_range')['student_name'].count() / size_group['student_name'].count()"
   ]
  },
  {
   "cell_type": "code",
   "execution_count": 62,
   "id": "2122609d",
   "metadata": {},
   "outputs": [],
   "source": [
    "size_summary = pd.DataFrame({\n",
    "    \n",
    "    \"Average Math Score\": av_math,\n",
    "    \"Average Reading Score\": av_read,\n",
    "    \"Percent Passing Math\": perc_pass_math,\n",
    "    \"Percent Passing Reading\": perc_pass_read,\n",
    "    \"Percent Overall Passing\": overall_pass\n",
    " })"
   ]
  },
  {
   "cell_type": "code",
   "execution_count": 63,
   "id": "d6fa83c5",
   "metadata": {},
   "outputs": [],
   "source": [
    " size_summary.index.name = \"School Size\""
   ]
  },
  {
   "cell_type": "code",
   "execution_count": 64,
   "id": "24314c71",
   "metadata": {},
   "outputs": [
    {
     "data": {
      "text/html": [
       "<style  type=\"text/css\" >\n",
       "</style><table id=\"T_7f809492_66d4_11ed_8308_1cbfc0b08616\" ><thead>    <tr>        <th class=\"blank level0\" ></th>        <th class=\"col_heading level0 col0\" >Average Math Score</th>        <th class=\"col_heading level0 col1\" >Average Reading Score</th>        <th class=\"col_heading level0 col2\" >Percent Passing Math</th>        <th class=\"col_heading level0 col3\" >Percent Passing Reading</th>        <th class=\"col_heading level0 col4\" >Percent Overall Passing</th>    </tr>    <tr>        <th class=\"index_name level0\" >School Size</th>        <th class=\"blank\" ></th>        <th class=\"blank\" ></th>        <th class=\"blank\" ></th>        <th class=\"blank\" ></th>        <th class=\"blank\" ></th>    </tr></thead><tbody>\n",
       "                <tr>\n",
       "                        <th id=\"T_7f809492_66d4_11ed_8308_1cbfc0b08616level0_row0\" class=\"row_heading level0 row0\" >Small (<1000)</th>\n",
       "                        <td id=\"T_7f809492_66d4_11ed_8308_1cbfc0b08616row0_col0\" class=\"data row0 col0\" >83.83</td>\n",
       "                        <td id=\"T_7f809492_66d4_11ed_8308_1cbfc0b08616row0_col1\" class=\"data row0 col1\" >83.97</td>\n",
       "                        <td id=\"T_7f809492_66d4_11ed_8308_1cbfc0b08616row0_col2\" class=\"data row0 col2\" >93.95%</td>\n",
       "                        <td id=\"T_7f809492_66d4_11ed_8308_1cbfc0b08616row0_col3\" class=\"data row0 col3\" >96.04%</td>\n",
       "                        <td id=\"T_7f809492_66d4_11ed_8308_1cbfc0b08616row0_col4\" class=\"data row0 col4\" >90.14%</td>\n",
       "            </tr>\n",
       "            <tr>\n",
       "                        <th id=\"T_7f809492_66d4_11ed_8308_1cbfc0b08616level0_row1\" class=\"row_heading level0 row1\" >Medium (1000 - 2000)</th>\n",
       "                        <td id=\"T_7f809492_66d4_11ed_8308_1cbfc0b08616row1_col0\" class=\"data row1 col0\" >83.37</td>\n",
       "                        <td id=\"T_7f809492_66d4_11ed_8308_1cbfc0b08616row1_col1\" class=\"data row1 col1\" >83.87</td>\n",
       "                        <td id=\"T_7f809492_66d4_11ed_8308_1cbfc0b08616row1_col2\" class=\"data row1 col2\" >93.62%</td>\n",
       "                        <td id=\"T_7f809492_66d4_11ed_8308_1cbfc0b08616row1_col3\" class=\"data row1 col3\" >96.77%</td>\n",
       "                        <td id=\"T_7f809492_66d4_11ed_8308_1cbfc0b08616row1_col4\" class=\"data row1 col4\" >90.62%</td>\n",
       "            </tr>\n",
       "            <tr>\n",
       "                        <th id=\"T_7f809492_66d4_11ed_8308_1cbfc0b08616level0_row2\" class=\"row_heading level0 row2\" >Large(>2000)</th>\n",
       "                        <td id=\"T_7f809492_66d4_11ed_8308_1cbfc0b08616row2_col0\" class=\"data row2 col0\" >77.48</td>\n",
       "                        <td id=\"T_7f809492_66d4_11ed_8308_1cbfc0b08616row2_col1\" class=\"data row2 col1\" >81.20</td>\n",
       "                        <td id=\"T_7f809492_66d4_11ed_8308_1cbfc0b08616row2_col2\" class=\"data row2 col2\" >68.65%</td>\n",
       "                        <td id=\"T_7f809492_66d4_11ed_8308_1cbfc0b08616row2_col3\" class=\"data row2 col3\" >82.13%</td>\n",
       "                        <td id=\"T_7f809492_66d4_11ed_8308_1cbfc0b08616row2_col4\" class=\"data row2 col4\" >56.57%</td>\n",
       "            </tr>\n",
       "    </tbody></table>"
      ],
      "text/plain": [
       "<pandas.io.formats.style.Styler at 0x28f3f890b48>"
      ]
     },
     "execution_count": 64,
     "metadata": {},
     "output_type": "execute_result"
    }
   ],
   "source": [
    " size_summary.style.format({\n",
    "    \n",
    "     \"Average Math Score\": '{:.2f}',\n",
    "     \"Average Reading Score\": '{:.2f}',\n",
    "     \"Percent Passing Math\": '{:.2%}',\n",
    "     \"Percent Passing Reading\": '{:.2%}',\n",
    "     \"Percent Overall Passing\": '{:.2%}'\n",
    " })"
   ]
  },
  {
   "cell_type": "code",
   "execution_count": 65,
   "id": "6b86c4cf",
   "metadata": {},
   "outputs": [],
   "source": [
    "# Scores by School Type"
   ]
  },
  {
   "cell_type": "code",
   "execution_count": 66,
   "id": "79537971",
   "metadata": {},
   "outputs": [],
   "source": [
    "sch_type = sch_complete_df.groupby('type')"
   ]
  },
  {
   "cell_type": "code",
   "execution_count": 67,
   "id": "57d81b3f",
   "metadata": {},
   "outputs": [],
   "source": [
    "av_math = sch_type['math_score'].mean()"
   ]
  },
  {
   "cell_type": "code",
   "execution_count": 68,
   "id": "0925681d",
   "metadata": {},
   "outputs": [],
   "source": [
    "av_read = sch_type['reading_score'].mean()"
   ]
  },
  {
   "cell_type": "code",
   "execution_count": 69,
   "id": "6fb4827a",
   "metadata": {},
   "outputs": [],
   "source": [
    "perc_pass_math = sch_complete_df[sch_complete_df['math_score'] >= 70].groupby('type')['student_name'].count() / sch_type['student_name'].count()"
   ]
  },
  {
   "cell_type": "code",
   "execution_count": 70,
   "id": "bd987665",
   "metadata": {},
   "outputs": [],
   "source": [
    "perc_pass_read = sch_complete_df[sch_complete_df['reading_score'] >= 70].groupby('type')['student_name'].count() / sch_type['student_name'].count()"
   ]
  },
  {
   "cell_type": "code",
   "execution_count": 71,
   "id": "61f93a4a",
   "metadata": {},
   "outputs": [],
   "source": [
    "overall_pass = sch_complete_df[(sch_complete_df['math_score'] >= 70) & (sch_complete_df['reading_score'] >= 70)].groupby('type')['student_name'].count() / sch_type['student_name'].count()"
   ]
  },
  {
   "cell_type": "code",
   "execution_count": 72,
   "id": "bdfa70b0",
   "metadata": {},
   "outputs": [],
   "source": [
    "type_summary = pd.DataFrame({\n",
    "    \n",
    "    \"Average Math Score\": av_math,\n",
    "    \"Average Reading Score\": av_read,\n",
    "    \"Percent Passing Math\": perc_pass_math,\n",
    "    \"Percent Passing Reading\": perc_pass_read,\n",
    "    \"Percent Overall Passing\": overall_pass\n",
    "})"
   ]
  },
  {
   "cell_type": "code",
   "execution_count": 73,
   "id": "bdc6d680",
   "metadata": {},
   "outputs": [],
   "source": [
    "type_summary.index.name = \"School Type\""
   ]
  },
  {
   "cell_type": "code",
   "execution_count": 74,
   "id": "a37c2ffc",
   "metadata": {},
   "outputs": [
    {
     "data": {
      "text/html": [
       "<style  type=\"text/css\" >\n",
       "</style><table id=\"T_7fa43cba_66d4_11ed_a0c1_1cbfc0b08616\" ><thead>    <tr>        <th class=\"blank level0\" ></th>        <th class=\"col_heading level0 col0\" >Average Math Score</th>        <th class=\"col_heading level0 col1\" >Average Reading Score</th>        <th class=\"col_heading level0 col2\" >Percent Passing Math</th>        <th class=\"col_heading level0 col3\" >Percent Passing Reading</th>        <th class=\"col_heading level0 col4\" >Percent Overall Passing</th>    </tr>    <tr>        <th class=\"index_name level0\" >School Type</th>        <th class=\"blank\" ></th>        <th class=\"blank\" ></th>        <th class=\"blank\" ></th>        <th class=\"blank\" ></th>        <th class=\"blank\" ></th>    </tr></thead><tbody>\n",
       "                <tr>\n",
       "                        <th id=\"T_7fa43cba_66d4_11ed_a0c1_1cbfc0b08616level0_row0\" class=\"row_heading level0 row0\" >Charter</th>\n",
       "                        <td id=\"T_7fa43cba_66d4_11ed_a0c1_1cbfc0b08616row0_col0\" class=\"data row0 col0\" >83.41</td>\n",
       "                        <td id=\"T_7fa43cba_66d4_11ed_a0c1_1cbfc0b08616row0_col1\" class=\"data row0 col1\" >83.90</td>\n",
       "                        <td id=\"T_7fa43cba_66d4_11ed_a0c1_1cbfc0b08616row0_col2\" class=\"data row0 col2\" >93.70%</td>\n",
       "                        <td id=\"T_7fa43cba_66d4_11ed_a0c1_1cbfc0b08616row0_col3\" class=\"data row0 col3\" >96.65%</td>\n",
       "                        <td id=\"T_7fa43cba_66d4_11ed_a0c1_1cbfc0b08616row0_col4\" class=\"data row0 col4\" >90.56%</td>\n",
       "            </tr>\n",
       "            <tr>\n",
       "                        <th id=\"T_7fa43cba_66d4_11ed_a0c1_1cbfc0b08616level0_row1\" class=\"row_heading level0 row1\" >District</th>\n",
       "                        <td id=\"T_7fa43cba_66d4_11ed_a0c1_1cbfc0b08616row1_col0\" class=\"data row1 col0\" >76.99</td>\n",
       "                        <td id=\"T_7fa43cba_66d4_11ed_a0c1_1cbfc0b08616row1_col1\" class=\"data row1 col1\" >80.96</td>\n",
       "                        <td id=\"T_7fa43cba_66d4_11ed_a0c1_1cbfc0b08616row1_col2\" class=\"data row1 col2\" >66.52%</td>\n",
       "                        <td id=\"T_7fa43cba_66d4_11ed_a0c1_1cbfc0b08616row1_col3\" class=\"data row1 col3\" >80.91%</td>\n",
       "                        <td id=\"T_7fa43cba_66d4_11ed_a0c1_1cbfc0b08616row1_col4\" class=\"data row1 col4\" >53.70%</td>\n",
       "            </tr>\n",
       "    </tbody></table>"
      ],
      "text/plain": [
       "<pandas.io.formats.style.Styler at 0x28f3f8764c8>"
      ]
     },
     "execution_count": 74,
     "metadata": {},
     "output_type": "execute_result"
    }
   ],
   "source": [
    " type_summary.style.format({\n",
    "    \n",
    "     \"Average Math Score\": '{:.2f}',\n",
    "     \"Average Reading Score\": '{:.2f}',\n",
    "     \"Percent Passing Math\": '{:.2%}',\n",
    "     \"Percent Passing Reading\": '{:.2%}',\n",
    "     \"Percent Overall Passing\": '{:.2%}'\n",
    " })"
   ]
  },
  {
   "cell_type": "code",
   "execution_count": null,
   "id": "da4cb594",
   "metadata": {},
   "outputs": [],
   "source": []
  }
 ],
 "metadata": {
  "kernelspec": {
   "display_name": "Python 3 (ipykernel)",
   "language": "python",
   "name": "python3"
  },
  "language_info": {
   "codemirror_mode": {
    "name": "ipython",
    "version": 3
   },
   "file_extension": ".py",
   "mimetype": "text/x-python",
   "name": "python",
   "nbconvert_exporter": "python",
   "pygments_lexer": "ipython3",
   "version": "3.7.7"
  }
 },
 "nbformat": 4,
 "nbformat_minor": 5
}
